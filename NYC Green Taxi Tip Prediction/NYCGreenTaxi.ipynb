{
 "cells": [
  {
   "cell_type": "markdown",
   "metadata": {},
   "source": [
    "## NYC Green Taxi Tip Prediction"
   ]
  },
  {
   "cell_type": "code",
   "execution_count": 93,
   "metadata": {},
   "outputs": [],
   "source": [
    "import pandas as pd\n",
    "import numpy as np\n",
    "import matplotlib.pyplot as plt\n",
    "import seaborn as sns\n",
    "import datetime as dt\n",
    "from statsmodels.stats.outliers_influence import variance_inflation_factor\n",
    "from sklearn.model_selection import train_test_split\n",
    "from sklearn.ensemble import RandomForestRegressor\n",
    "from sklearn.metrics import mean_squared_error\n",
    "from sklearn.metrics import mean_absolute_error\n",
    "from sklearn import cross_validation, metrics\n",
    "from sklearn.cross_validation import cross_val_score\n",
    "from sklearn.grid_search import GridSearchCV \n",
    "from shapely.geometry import Point,Polygon,MultiPoint,MultiPolygon\n",
    "from math import sqrt\n",
    "\n",
    "\n",
    "\n",
    "\n",
    "%matplotlib inline"
   ]
  },
  {
   "cell_type": "code",
   "execution_count": 2,
   "metadata": {},
   "outputs": [],
   "source": [
    "# import os\n",
    "# path = 'E:/Projects/NYC_Green_Taxi'\n",
    "# os.getcwd()\n",
    "# os.chdir(path)"
   ]
  },
  {
   "cell_type": "code",
   "execution_count": 3,
   "metadata": {},
   "outputs": [
    {
     "data": {
      "text/html": [
       "<div>\n",
       "<style scoped>\n",
       "    .dataframe tbody tr th:only-of-type {\n",
       "        vertical-align: middle;\n",
       "    }\n",
       "\n",
       "    .dataframe tbody tr th {\n",
       "        vertical-align: top;\n",
       "    }\n",
       "\n",
       "    .dataframe thead th {\n",
       "        text-align: right;\n",
       "    }\n",
       "</style>\n",
       "<table border=\"1\" class=\"dataframe\">\n",
       "  <thead>\n",
       "    <tr style=\"text-align: right;\">\n",
       "      <th></th>\n",
       "      <th>VendorID</th>\n",
       "      <th>lpep_pickup_datetime</th>\n",
       "      <th>Lpep_dropoff_datetime</th>\n",
       "      <th>Store_and_fwd_flag</th>\n",
       "      <th>RateCodeID</th>\n",
       "      <th>Pickup_longitude</th>\n",
       "      <th>Pickup_latitude</th>\n",
       "      <th>Dropoff_longitude</th>\n",
       "      <th>Dropoff_latitude</th>\n",
       "      <th>Passenger_count</th>\n",
       "      <th>...</th>\n",
       "      <th>Fare_amount</th>\n",
       "      <th>Extra</th>\n",
       "      <th>MTA_tax</th>\n",
       "      <th>Tip_amount</th>\n",
       "      <th>Tolls_amount</th>\n",
       "      <th>Ehail_fee</th>\n",
       "      <th>improvement_surcharge</th>\n",
       "      <th>Total_amount</th>\n",
       "      <th>Payment_type</th>\n",
       "      <th>Trip_type</th>\n",
       "    </tr>\n",
       "  </thead>\n",
       "  <tbody>\n",
       "    <tr>\n",
       "      <th>0</th>\n",
       "      <td>2</td>\n",
       "      <td>2015-09-01 00:02:34</td>\n",
       "      <td>2015-09-01 00:02:38</td>\n",
       "      <td>N</td>\n",
       "      <td>5</td>\n",
       "      <td>-73.979485</td>\n",
       "      <td>40.684956</td>\n",
       "      <td>-73.979431</td>\n",
       "      <td>40.685020</td>\n",
       "      <td>1</td>\n",
       "      <td>...</td>\n",
       "      <td>7.8</td>\n",
       "      <td>0.0</td>\n",
       "      <td>0.0</td>\n",
       "      <td>1.95</td>\n",
       "      <td>0.0</td>\n",
       "      <td>NaN</td>\n",
       "      <td>0.0</td>\n",
       "      <td>9.75</td>\n",
       "      <td>1</td>\n",
       "      <td>2.0</td>\n",
       "    </tr>\n",
       "    <tr>\n",
       "      <th>1</th>\n",
       "      <td>2</td>\n",
       "      <td>2015-09-01 00:04:20</td>\n",
       "      <td>2015-09-01 00:04:24</td>\n",
       "      <td>N</td>\n",
       "      <td>5</td>\n",
       "      <td>-74.010796</td>\n",
       "      <td>40.912216</td>\n",
       "      <td>-74.010780</td>\n",
       "      <td>40.912212</td>\n",
       "      <td>1</td>\n",
       "      <td>...</td>\n",
       "      <td>45.0</td>\n",
       "      <td>0.0</td>\n",
       "      <td>0.0</td>\n",
       "      <td>0.00</td>\n",
       "      <td>0.0</td>\n",
       "      <td>NaN</td>\n",
       "      <td>0.0</td>\n",
       "      <td>45.00</td>\n",
       "      <td>1</td>\n",
       "      <td>2.0</td>\n",
       "    </tr>\n",
       "    <tr>\n",
       "      <th>2</th>\n",
       "      <td>2</td>\n",
       "      <td>2015-09-01 00:01:50</td>\n",
       "      <td>2015-09-01 00:04:24</td>\n",
       "      <td>N</td>\n",
       "      <td>1</td>\n",
       "      <td>-73.921410</td>\n",
       "      <td>40.766708</td>\n",
       "      <td>-73.914413</td>\n",
       "      <td>40.764687</td>\n",
       "      <td>1</td>\n",
       "      <td>...</td>\n",
       "      <td>4.0</td>\n",
       "      <td>0.5</td>\n",
       "      <td>0.5</td>\n",
       "      <td>0.50</td>\n",
       "      <td>0.0</td>\n",
       "      <td>NaN</td>\n",
       "      <td>0.3</td>\n",
       "      <td>5.80</td>\n",
       "      <td>1</td>\n",
       "      <td>1.0</td>\n",
       "    </tr>\n",
       "    <tr>\n",
       "      <th>3</th>\n",
       "      <td>2</td>\n",
       "      <td>2015-09-01 00:02:36</td>\n",
       "      <td>2015-09-01 00:06:42</td>\n",
       "      <td>N</td>\n",
       "      <td>1</td>\n",
       "      <td>-73.921387</td>\n",
       "      <td>40.766678</td>\n",
       "      <td>-73.931427</td>\n",
       "      <td>40.771584</td>\n",
       "      <td>1</td>\n",
       "      <td>...</td>\n",
       "      <td>5.0</td>\n",
       "      <td>0.5</td>\n",
       "      <td>0.5</td>\n",
       "      <td>0.00</td>\n",
       "      <td>0.0</td>\n",
       "      <td>NaN</td>\n",
       "      <td>0.3</td>\n",
       "      <td>6.30</td>\n",
       "      <td>2</td>\n",
       "      <td>1.0</td>\n",
       "    </tr>\n",
       "    <tr>\n",
       "      <th>4</th>\n",
       "      <td>2</td>\n",
       "      <td>2015-09-01 00:00:14</td>\n",
       "      <td>2015-09-01 00:04:20</td>\n",
       "      <td>N</td>\n",
       "      <td>1</td>\n",
       "      <td>-73.955482</td>\n",
       "      <td>40.714046</td>\n",
       "      <td>-73.944412</td>\n",
       "      <td>40.714729</td>\n",
       "      <td>1</td>\n",
       "      <td>...</td>\n",
       "      <td>5.0</td>\n",
       "      <td>0.5</td>\n",
       "      <td>0.5</td>\n",
       "      <td>0.00</td>\n",
       "      <td>0.0</td>\n",
       "      <td>NaN</td>\n",
       "      <td>0.3</td>\n",
       "      <td>6.30</td>\n",
       "      <td>2</td>\n",
       "      <td>1.0</td>\n",
       "    </tr>\n",
       "    <tr>\n",
       "      <th>5</th>\n",
       "      <td>2</td>\n",
       "      <td>2015-09-01 00:00:39</td>\n",
       "      <td>2015-09-01 00:05:20</td>\n",
       "      <td>N</td>\n",
       "      <td>1</td>\n",
       "      <td>-73.945297</td>\n",
       "      <td>40.808186</td>\n",
       "      <td>-73.937668</td>\n",
       "      <td>40.821198</td>\n",
       "      <td>1</td>\n",
       "      <td>...</td>\n",
       "      <td>5.5</td>\n",
       "      <td>0.5</td>\n",
       "      <td>0.5</td>\n",
       "      <td>1.36</td>\n",
       "      <td>0.0</td>\n",
       "      <td>NaN</td>\n",
       "      <td>0.3</td>\n",
       "      <td>8.16</td>\n",
       "      <td>1</td>\n",
       "      <td>1.0</td>\n",
       "    </tr>\n",
       "    <tr>\n",
       "      <th>6</th>\n",
       "      <td>2</td>\n",
       "      <td>2015-09-01 00:00:52</td>\n",
       "      <td>2015-09-01 00:05:50</td>\n",
       "      <td>N</td>\n",
       "      <td>1</td>\n",
       "      <td>-73.890877</td>\n",
       "      <td>40.746426</td>\n",
       "      <td>-73.876923</td>\n",
       "      <td>40.756306</td>\n",
       "      <td>1</td>\n",
       "      <td>...</td>\n",
       "      <td>6.5</td>\n",
       "      <td>0.5</td>\n",
       "      <td>0.5</td>\n",
       "      <td>0.00</td>\n",
       "      <td>0.0</td>\n",
       "      <td>NaN</td>\n",
       "      <td>0.3</td>\n",
       "      <td>7.80</td>\n",
       "      <td>1</td>\n",
       "      <td>1.0</td>\n",
       "    </tr>\n",
       "    <tr>\n",
       "      <th>7</th>\n",
       "      <td>2</td>\n",
       "      <td>2015-09-01 00:02:15</td>\n",
       "      <td>2015-09-01 00:05:34</td>\n",
       "      <td>N</td>\n",
       "      <td>1</td>\n",
       "      <td>-73.946701</td>\n",
       "      <td>40.797321</td>\n",
       "      <td>-73.937645</td>\n",
       "      <td>40.804516</td>\n",
       "      <td>1</td>\n",
       "      <td>...</td>\n",
       "      <td>5.0</td>\n",
       "      <td>0.5</td>\n",
       "      <td>0.5</td>\n",
       "      <td>0.00</td>\n",
       "      <td>0.0</td>\n",
       "      <td>NaN</td>\n",
       "      <td>0.3</td>\n",
       "      <td>6.30</td>\n",
       "      <td>2</td>\n",
       "      <td>1.0</td>\n",
       "    </tr>\n",
       "    <tr>\n",
       "      <th>8</th>\n",
       "      <td>2</td>\n",
       "      <td>2015-09-01 00:02:36</td>\n",
       "      <td>2015-09-01 00:07:20</td>\n",
       "      <td>N</td>\n",
       "      <td>1</td>\n",
       "      <td>-73.963150</td>\n",
       "      <td>40.693829</td>\n",
       "      <td>-73.956787</td>\n",
       "      <td>40.680531</td>\n",
       "      <td>1</td>\n",
       "      <td>...</td>\n",
       "      <td>6.0</td>\n",
       "      <td>0.5</td>\n",
       "      <td>0.5</td>\n",
       "      <td>1.46</td>\n",
       "      <td>0.0</td>\n",
       "      <td>NaN</td>\n",
       "      <td>0.3</td>\n",
       "      <td>8.76</td>\n",
       "      <td>1</td>\n",
       "      <td>1.0</td>\n",
       "    </tr>\n",
       "    <tr>\n",
       "      <th>9</th>\n",
       "      <td>2</td>\n",
       "      <td>2015-09-01 00:02:13</td>\n",
       "      <td>2015-09-01 00:07:23</td>\n",
       "      <td>N</td>\n",
       "      <td>1</td>\n",
       "      <td>-73.896820</td>\n",
       "      <td>40.746128</td>\n",
       "      <td>-73.888626</td>\n",
       "      <td>40.752724</td>\n",
       "      <td>1</td>\n",
       "      <td>...</td>\n",
       "      <td>5.5</td>\n",
       "      <td>0.5</td>\n",
       "      <td>0.5</td>\n",
       "      <td>0.00</td>\n",
       "      <td>0.0</td>\n",
       "      <td>NaN</td>\n",
       "      <td>0.3</td>\n",
       "      <td>6.80</td>\n",
       "      <td>2</td>\n",
       "      <td>1.0</td>\n",
       "    </tr>\n",
       "  </tbody>\n",
       "</table>\n",
       "<p>10 rows × 21 columns</p>\n",
       "</div>"
      ],
      "text/plain": [
       "   VendorID lpep_pickup_datetime Lpep_dropoff_datetime Store_and_fwd_flag  \\\n",
       "0         2  2015-09-01 00:02:34   2015-09-01 00:02:38                  N   \n",
       "1         2  2015-09-01 00:04:20   2015-09-01 00:04:24                  N   \n",
       "2         2  2015-09-01 00:01:50   2015-09-01 00:04:24                  N   \n",
       "3         2  2015-09-01 00:02:36   2015-09-01 00:06:42                  N   \n",
       "4         2  2015-09-01 00:00:14   2015-09-01 00:04:20                  N   \n",
       "5         2  2015-09-01 00:00:39   2015-09-01 00:05:20                  N   \n",
       "6         2  2015-09-01 00:00:52   2015-09-01 00:05:50                  N   \n",
       "7         2  2015-09-01 00:02:15   2015-09-01 00:05:34                  N   \n",
       "8         2  2015-09-01 00:02:36   2015-09-01 00:07:20                  N   \n",
       "9         2  2015-09-01 00:02:13   2015-09-01 00:07:23                  N   \n",
       "\n",
       "   RateCodeID  Pickup_longitude  Pickup_latitude  Dropoff_longitude  \\\n",
       "0           5        -73.979485        40.684956         -73.979431   \n",
       "1           5        -74.010796        40.912216         -74.010780   \n",
       "2           1        -73.921410        40.766708         -73.914413   \n",
       "3           1        -73.921387        40.766678         -73.931427   \n",
       "4           1        -73.955482        40.714046         -73.944412   \n",
       "5           1        -73.945297        40.808186         -73.937668   \n",
       "6           1        -73.890877        40.746426         -73.876923   \n",
       "7           1        -73.946701        40.797321         -73.937645   \n",
       "8           1        -73.963150        40.693829         -73.956787   \n",
       "9           1        -73.896820        40.746128         -73.888626   \n",
       "\n",
       "   Dropoff_latitude  Passenger_count  ...  Fare_amount  Extra  MTA_tax  \\\n",
       "0         40.685020                1  ...          7.8    0.0      0.0   \n",
       "1         40.912212                1  ...         45.0    0.0      0.0   \n",
       "2         40.764687                1  ...          4.0    0.5      0.5   \n",
       "3         40.771584                1  ...          5.0    0.5      0.5   \n",
       "4         40.714729                1  ...          5.0    0.5      0.5   \n",
       "5         40.821198                1  ...          5.5    0.5      0.5   \n",
       "6         40.756306                1  ...          6.5    0.5      0.5   \n",
       "7         40.804516                1  ...          5.0    0.5      0.5   \n",
       "8         40.680531                1  ...          6.0    0.5      0.5   \n",
       "9         40.752724                1  ...          5.5    0.5      0.5   \n",
       "\n",
       "   Tip_amount  Tolls_amount  Ehail_fee  improvement_surcharge  Total_amount  \\\n",
       "0        1.95           0.0        NaN                    0.0          9.75   \n",
       "1        0.00           0.0        NaN                    0.0         45.00   \n",
       "2        0.50           0.0        NaN                    0.3          5.80   \n",
       "3        0.00           0.0        NaN                    0.3          6.30   \n",
       "4        0.00           0.0        NaN                    0.3          6.30   \n",
       "5        1.36           0.0        NaN                    0.3          8.16   \n",
       "6        0.00           0.0        NaN                    0.3          7.80   \n",
       "7        0.00           0.0        NaN                    0.3          6.30   \n",
       "8        1.46           0.0        NaN                    0.3          8.76   \n",
       "9        0.00           0.0        NaN                    0.3          6.80   \n",
       "\n",
       "   Payment_type  Trip_type   \n",
       "0             1         2.0  \n",
       "1             1         2.0  \n",
       "2             1         1.0  \n",
       "3             2         1.0  \n",
       "4             2         1.0  \n",
       "5             1         1.0  \n",
       "6             1         1.0  \n",
       "7             2         1.0  \n",
       "8             1         1.0  \n",
       "9             2         1.0  \n",
       "\n",
       "[10 rows x 21 columns]"
      ]
     },
     "execution_count": 3,
     "metadata": {},
     "output_type": "execute_result"
    }
   ],
   "source": [
    "#Solution for Question 1\n",
    "\n",
    "data = pd.read_csv('green_tripdata_2015-09.csv')\n",
    "data.head(10)"
   ]
  },
  {
   "cell_type": "code",
   "execution_count": 4,
   "metadata": {},
   "outputs": [
    {
     "data": {
      "text/html": [
       "<div>\n",
       "<style scoped>\n",
       "    .dataframe tbody tr th:only-of-type {\n",
       "        vertical-align: middle;\n",
       "    }\n",
       "\n",
       "    .dataframe tbody tr th {\n",
       "        vertical-align: top;\n",
       "    }\n",
       "\n",
       "    .dataframe thead th {\n",
       "        text-align: right;\n",
       "    }\n",
       "</style>\n",
       "<table border=\"1\" class=\"dataframe\">\n",
       "  <thead>\n",
       "    <tr style=\"text-align: right;\">\n",
       "      <th></th>\n",
       "      <th>VendorID</th>\n",
       "      <th>lpep_pickup_datetime</th>\n",
       "      <th>Lpep_dropoff_datetime</th>\n",
       "      <th>Store_and_fwd_flag</th>\n",
       "      <th>RateCodeID</th>\n",
       "      <th>Pickup_longitude</th>\n",
       "      <th>Pickup_latitude</th>\n",
       "      <th>Dropoff_longitude</th>\n",
       "      <th>Dropoff_latitude</th>\n",
       "      <th>Passenger_count</th>\n",
       "      <th>...</th>\n",
       "      <th>Fare_amount</th>\n",
       "      <th>Extra</th>\n",
       "      <th>MTA_tax</th>\n",
       "      <th>Tip_amount</th>\n",
       "      <th>Tolls_amount</th>\n",
       "      <th>Ehail_fee</th>\n",
       "      <th>improvement_surcharge</th>\n",
       "      <th>Total_amount</th>\n",
       "      <th>Payment_type</th>\n",
       "      <th>Trip_type</th>\n",
       "    </tr>\n",
       "  </thead>\n",
       "  <tbody>\n",
       "    <tr>\n",
       "      <th>1494916</th>\n",
       "      <td>1</td>\n",
       "      <td>2015-09-30 23:00:29</td>\n",
       "      <td>2015-09-30 23:20:19</td>\n",
       "      <td>N</td>\n",
       "      <td>1</td>\n",
       "      <td>-73.957939</td>\n",
       "      <td>40.721851</td>\n",
       "      <td>-73.912788</td>\n",
       "      <td>40.780136</td>\n",
       "      <td>1</td>\n",
       "      <td>...</td>\n",
       "      <td>19.0</td>\n",
       "      <td>0.5</td>\n",
       "      <td>0.5</td>\n",
       "      <td>4.05</td>\n",
       "      <td>0.0</td>\n",
       "      <td>NaN</td>\n",
       "      <td>0.3</td>\n",
       "      <td>24.35</td>\n",
       "      <td>1</td>\n",
       "      <td>1.0</td>\n",
       "    </tr>\n",
       "    <tr>\n",
       "      <th>1494917</th>\n",
       "      <td>1</td>\n",
       "      <td>2015-09-30 23:01:36</td>\n",
       "      <td>2015-09-30 23:06:14</td>\n",
       "      <td>N</td>\n",
       "      <td>1</td>\n",
       "      <td>-73.941010</td>\n",
       "      <td>40.700401</td>\n",
       "      <td>-73.951485</td>\n",
       "      <td>40.689667</td>\n",
       "      <td>1</td>\n",
       "      <td>...</td>\n",
       "      <td>6.0</td>\n",
       "      <td>0.5</td>\n",
       "      <td>0.5</td>\n",
       "      <td>0.00</td>\n",
       "      <td>0.0</td>\n",
       "      <td>NaN</td>\n",
       "      <td>0.3</td>\n",
       "      <td>7.30</td>\n",
       "      <td>2</td>\n",
       "      <td>1.0</td>\n",
       "    </tr>\n",
       "    <tr>\n",
       "      <th>1494918</th>\n",
       "      <td>1</td>\n",
       "      <td>2015-09-30 23:00:17</td>\n",
       "      <td>2015-09-30 23:05:51</td>\n",
       "      <td>N</td>\n",
       "      <td>1</td>\n",
       "      <td>-73.928070</td>\n",
       "      <td>40.824333</td>\n",
       "      <td>-73.915825</td>\n",
       "      <td>40.815277</td>\n",
       "      <td>2</td>\n",
       "      <td>...</td>\n",
       "      <td>6.0</td>\n",
       "      <td>0.5</td>\n",
       "      <td>0.5</td>\n",
       "      <td>0.00</td>\n",
       "      <td>0.0</td>\n",
       "      <td>NaN</td>\n",
       "      <td>0.3</td>\n",
       "      <td>7.30</td>\n",
       "      <td>2</td>\n",
       "      <td>1.0</td>\n",
       "    </tr>\n",
       "    <tr>\n",
       "      <th>1494919</th>\n",
       "      <td>1</td>\n",
       "      <td>2015-09-30 23:00:18</td>\n",
       "      <td>2015-09-30 23:06:00</td>\n",
       "      <td>N</td>\n",
       "      <td>1</td>\n",
       "      <td>-73.945869</td>\n",
       "      <td>40.816177</td>\n",
       "      <td>-73.942863</td>\n",
       "      <td>40.829807</td>\n",
       "      <td>1</td>\n",
       "      <td>...</td>\n",
       "      <td>6.0</td>\n",
       "      <td>0.5</td>\n",
       "      <td>0.5</td>\n",
       "      <td>0.00</td>\n",
       "      <td>0.0</td>\n",
       "      <td>NaN</td>\n",
       "      <td>0.3</td>\n",
       "      <td>7.30</td>\n",
       "      <td>2</td>\n",
       "      <td>1.0</td>\n",
       "    </tr>\n",
       "    <tr>\n",
       "      <th>1494920</th>\n",
       "      <td>1</td>\n",
       "      <td>2015-09-30 23:01:05</td>\n",
       "      <td>2015-09-30 23:19:14</td>\n",
       "      <td>N</td>\n",
       "      <td>1</td>\n",
       "      <td>-73.996315</td>\n",
       "      <td>40.690693</td>\n",
       "      <td>-73.943321</td>\n",
       "      <td>40.684181</td>\n",
       "      <td>1</td>\n",
       "      <td>...</td>\n",
       "      <td>15.5</td>\n",
       "      <td>0.5</td>\n",
       "      <td>0.5</td>\n",
       "      <td>4.20</td>\n",
       "      <td>0.0</td>\n",
       "      <td>NaN</td>\n",
       "      <td>0.3</td>\n",
       "      <td>21.00</td>\n",
       "      <td>1</td>\n",
       "      <td>1.0</td>\n",
       "    </tr>\n",
       "    <tr>\n",
       "      <th>1494921</th>\n",
       "      <td>1</td>\n",
       "      <td>2015-09-30 23:00:01</td>\n",
       "      <td>2015-09-30 23:17:21</td>\n",
       "      <td>N</td>\n",
       "      <td>1</td>\n",
       "      <td>-73.925339</td>\n",
       "      <td>40.761776</td>\n",
       "      <td>-73.786606</td>\n",
       "      <td>40.770184</td>\n",
       "      <td>1</td>\n",
       "      <td>...</td>\n",
       "      <td>30.5</td>\n",
       "      <td>0.5</td>\n",
       "      <td>0.5</td>\n",
       "      <td>0.00</td>\n",
       "      <td>0.0</td>\n",
       "      <td>NaN</td>\n",
       "      <td>0.3</td>\n",
       "      <td>31.80</td>\n",
       "      <td>2</td>\n",
       "      <td>1.0</td>\n",
       "    </tr>\n",
       "    <tr>\n",
       "      <th>1494922</th>\n",
       "      <td>1</td>\n",
       "      <td>2015-09-30 23:00:05</td>\n",
       "      <td>2015-09-30 23:08:13</td>\n",
       "      <td>N</td>\n",
       "      <td>1</td>\n",
       "      <td>-73.974312</td>\n",
       "      <td>40.685802</td>\n",
       "      <td>-73.980591</td>\n",
       "      <td>40.664055</td>\n",
       "      <td>1</td>\n",
       "      <td>...</td>\n",
       "      <td>8.0</td>\n",
       "      <td>0.5</td>\n",
       "      <td>0.5</td>\n",
       "      <td>0.00</td>\n",
       "      <td>0.0</td>\n",
       "      <td>NaN</td>\n",
       "      <td>0.3</td>\n",
       "      <td>9.30</td>\n",
       "      <td>2</td>\n",
       "      <td>1.0</td>\n",
       "    </tr>\n",
       "    <tr>\n",
       "      <th>1494923</th>\n",
       "      <td>1</td>\n",
       "      <td>2015-09-30 23:00:30</td>\n",
       "      <td>2015-09-30 23:08:39</td>\n",
       "      <td>N</td>\n",
       "      <td>1</td>\n",
       "      <td>-73.996437</td>\n",
       "      <td>40.681416</td>\n",
       "      <td>-73.998283</td>\n",
       "      <td>40.662296</td>\n",
       "      <td>1</td>\n",
       "      <td>...</td>\n",
       "      <td>7.5</td>\n",
       "      <td>0.5</td>\n",
       "      <td>0.5</td>\n",
       "      <td>0.00</td>\n",
       "      <td>0.0</td>\n",
       "      <td>NaN</td>\n",
       "      <td>0.3</td>\n",
       "      <td>8.80</td>\n",
       "      <td>2</td>\n",
       "      <td>1.0</td>\n",
       "    </tr>\n",
       "    <tr>\n",
       "      <th>1494924</th>\n",
       "      <td>1</td>\n",
       "      <td>2015-09-30 23:00:10</td>\n",
       "      <td>2015-09-30 23:03:49</td>\n",
       "      <td>N</td>\n",
       "      <td>1</td>\n",
       "      <td>-73.953606</td>\n",
       "      <td>40.587482</td>\n",
       "      <td>-73.941071</td>\n",
       "      <td>40.590843</td>\n",
       "      <td>1</td>\n",
       "      <td>...</td>\n",
       "      <td>5.0</td>\n",
       "      <td>0.5</td>\n",
       "      <td>0.5</td>\n",
       "      <td>1.25</td>\n",
       "      <td>0.0</td>\n",
       "      <td>NaN</td>\n",
       "      <td>0.3</td>\n",
       "      <td>7.55</td>\n",
       "      <td>1</td>\n",
       "      <td>1.0</td>\n",
       "    </tr>\n",
       "    <tr>\n",
       "      <th>1494925</th>\n",
       "      <td>1</td>\n",
       "      <td>2015-09-30 23:00:11</td>\n",
       "      <td>2015-09-30 23:05:36</td>\n",
       "      <td>N</td>\n",
       "      <td>1</td>\n",
       "      <td>-73.966110</td>\n",
       "      <td>40.681351</td>\n",
       "      <td>-73.955452</td>\n",
       "      <td>40.691002</td>\n",
       "      <td>1</td>\n",
       "      <td>...</td>\n",
       "      <td>6.5</td>\n",
       "      <td>0.5</td>\n",
       "      <td>0.5</td>\n",
       "      <td>1.00</td>\n",
       "      <td>0.0</td>\n",
       "      <td>NaN</td>\n",
       "      <td>0.3</td>\n",
       "      <td>8.80</td>\n",
       "      <td>1</td>\n",
       "      <td>1.0</td>\n",
       "    </tr>\n",
       "  </tbody>\n",
       "</table>\n",
       "<p>10 rows × 21 columns</p>\n",
       "</div>"
      ],
      "text/plain": [
       "         VendorID lpep_pickup_datetime Lpep_dropoff_datetime  \\\n",
       "1494916         1  2015-09-30 23:00:29   2015-09-30 23:20:19   \n",
       "1494917         1  2015-09-30 23:01:36   2015-09-30 23:06:14   \n",
       "1494918         1  2015-09-30 23:00:17   2015-09-30 23:05:51   \n",
       "1494919         1  2015-09-30 23:00:18   2015-09-30 23:06:00   \n",
       "1494920         1  2015-09-30 23:01:05   2015-09-30 23:19:14   \n",
       "1494921         1  2015-09-30 23:00:01   2015-09-30 23:17:21   \n",
       "1494922         1  2015-09-30 23:00:05   2015-09-30 23:08:13   \n",
       "1494923         1  2015-09-30 23:00:30   2015-09-30 23:08:39   \n",
       "1494924         1  2015-09-30 23:00:10   2015-09-30 23:03:49   \n",
       "1494925         1  2015-09-30 23:00:11   2015-09-30 23:05:36   \n",
       "\n",
       "        Store_and_fwd_flag  RateCodeID  Pickup_longitude  Pickup_latitude  \\\n",
       "1494916                  N           1        -73.957939        40.721851   \n",
       "1494917                  N           1        -73.941010        40.700401   \n",
       "1494918                  N           1        -73.928070        40.824333   \n",
       "1494919                  N           1        -73.945869        40.816177   \n",
       "1494920                  N           1        -73.996315        40.690693   \n",
       "1494921                  N           1        -73.925339        40.761776   \n",
       "1494922                  N           1        -73.974312        40.685802   \n",
       "1494923                  N           1        -73.996437        40.681416   \n",
       "1494924                  N           1        -73.953606        40.587482   \n",
       "1494925                  N           1        -73.966110        40.681351   \n",
       "\n",
       "         Dropoff_longitude  Dropoff_latitude  Passenger_count  ...  \\\n",
       "1494916         -73.912788         40.780136                1  ...   \n",
       "1494917         -73.951485         40.689667                1  ...   \n",
       "1494918         -73.915825         40.815277                2  ...   \n",
       "1494919         -73.942863         40.829807                1  ...   \n",
       "1494920         -73.943321         40.684181                1  ...   \n",
       "1494921         -73.786606         40.770184                1  ...   \n",
       "1494922         -73.980591         40.664055                1  ...   \n",
       "1494923         -73.998283         40.662296                1  ...   \n",
       "1494924         -73.941071         40.590843                1  ...   \n",
       "1494925         -73.955452         40.691002                1  ...   \n",
       "\n",
       "         Fare_amount  Extra  MTA_tax  Tip_amount  Tolls_amount  Ehail_fee  \\\n",
       "1494916         19.0    0.5      0.5        4.05           0.0        NaN   \n",
       "1494917          6.0    0.5      0.5        0.00           0.0        NaN   \n",
       "1494918          6.0    0.5      0.5        0.00           0.0        NaN   \n",
       "1494919          6.0    0.5      0.5        0.00           0.0        NaN   \n",
       "1494920         15.5    0.5      0.5        4.20           0.0        NaN   \n",
       "1494921         30.5    0.5      0.5        0.00           0.0        NaN   \n",
       "1494922          8.0    0.5      0.5        0.00           0.0        NaN   \n",
       "1494923          7.5    0.5      0.5        0.00           0.0        NaN   \n",
       "1494924          5.0    0.5      0.5        1.25           0.0        NaN   \n",
       "1494925          6.5    0.5      0.5        1.00           0.0        NaN   \n",
       "\n",
       "         improvement_surcharge  Total_amount  Payment_type  Trip_type   \n",
       "1494916                    0.3         24.35             1         1.0  \n",
       "1494917                    0.3          7.30             2         1.0  \n",
       "1494918                    0.3          7.30             2         1.0  \n",
       "1494919                    0.3          7.30             2         1.0  \n",
       "1494920                    0.3         21.00             1         1.0  \n",
       "1494921                    0.3         31.80             2         1.0  \n",
       "1494922                    0.3          9.30             2         1.0  \n",
       "1494923                    0.3          8.80             2         1.0  \n",
       "1494924                    0.3          7.55             1         1.0  \n",
       "1494925                    0.3          8.80             1         1.0  \n",
       "\n",
       "[10 rows x 21 columns]"
      ]
     },
     "execution_count": 4,
     "metadata": {},
     "output_type": "execute_result"
    }
   ],
   "source": [
    "data.tail(10)"
   ]
  },
  {
   "cell_type": "code",
   "execution_count": 5,
   "metadata": {},
   "outputs": [
    {
     "name": "stdout",
     "output_type": "stream",
     "text": [
      "Number of rows in data    :  1494926 \n",
      "Number of columns in data :  21\n"
     ]
    }
   ],
   "source": [
    "print('Number of rows in data    : ', data.shape[0],'\\nNumber of columns in data : ', data.shape[1])"
   ]
  },
  {
   "cell_type": "markdown",
   "metadata": {},
   "source": [
    "\n",
    "Solution for Question 2\n"
   ]
  },
  {
   "cell_type": "code",
   "execution_count": 6,
   "metadata": {},
   "outputs": [
    {
     "data": {
      "text/plain": [
       "Text(0.5, 1.0, 'Histogram of Trip distance')"
      ]
     },
     "execution_count": 6,
     "metadata": {},
     "output_type": "execute_result"
    },
    {
     "data": {
      "image/png": "[encoded data removed]",
      "text/plain": [
       "<Figure size 432x288 with 1 Axes>"
      ]
     },
     "metadata": {
      "needs_background": "light"
     },
     "output_type": "display_data"
    }
   ],
   "source": [
    "plt.figure()\n",
    "data.Trip_distance.hist(bins = 30, rwidth= 0.9)\n",
    "plt.yscale('log')\n",
    "plt.xlabel('Trip Distance in miles')\n",
    "plt.ylabel('Scaled count')\n",
    "plt.title('Histogram of Trip distance') \n"
   ]
  },
  {
   "cell_type": "markdown",
   "metadata": {},
   "source": [
    "The Trip distance feature seems to be skewed to the right. Most probably because distance can't be negative, so its lower limit  is at zero. We can observe many outliers in the histogram. Such outliers can affect badly our model, so it is better to remove them after certain assumptions. "
   ]
  },
  {
   "cell_type": "code",
   "execution_count": 7,
   "metadata": {},
   "outputs": [
    {
     "data": {
      "image/png": "[encoded data removed]",
      "text/plain": [
       "<Figure size 432x288 with 1 Axes>"
      ]
     },
     "metadata": {
      "needs_background": "light"
     },
     "output_type": "display_data"
    }
   ],
   "source": [
    "# plotting points as a scatter plot \n",
    "plt.figure()\n",
    "plt.scatter(x = data.Trip_distance, y = pd.Series(range(data.shape[0])), color= \"green\",  \n",
    "            marker= \"*\", s=30)    \n",
    "plt.title('Scatter Plot to show outliers') \n",
    "plt.xlabel('Trip Distance in miles')\n",
    "plt.ylabel('Count')\n",
    "plt.show() \n"
   ]
  },
  {
   "cell_type": "markdown",
   "metadata": {},
   "source": [
    "The above scatter plot clearly shows the outliers.. "
   ]
  },
  {
   "cell_type": "code",
   "execution_count": 8,
   "metadata": {},
   "outputs": [
    {
     "data": {
      "text/plain": [
       "count    1.494926e+06\n",
       "mean     2.968141e+00\n",
       "std      3.076621e+00\n",
       "min      0.000000e+00\n",
       "25%      1.100000e+00\n",
       "50%      1.980000e+00\n",
       "75%      3.740000e+00\n",
       "max      6.031000e+02\n",
       "Name: Trip_distance, dtype: float64"
      ]
     },
     "execution_count": 8,
     "metadata": {},
     "output_type": "execute_result"
    }
   ],
   "source": [
    "data.Trip_distance.describe()"
   ]
  },
  {
   "cell_type": "markdown",
   "metadata": {},
   "source": [
    "As expected, we could see a high value standard deviation. \n",
    "Thus, to remove outliers, we can set our threshold to 3*sigma, i.e 3 times standard deviation ."
   ]
  },
  {
   "cell_type": "code",
   "execution_count": 9,
   "metadata": {},
   "outputs": [
    {
     "name": "stdout",
     "output_type": "stream",
     "text": [
      "Mean value =  2.9681408511189864\n",
      "Standard deviation =  3.076619780340042\n"
     ]
    }
   ],
   "source": [
    "#We store mean and standard deviation values in variables for calculation purpose.\n",
    "mean = np.mean(data.Trip_distance)\n",
    "std = np.std(data.Trip_distance)\n",
    "print('Mean value = ',mean)\n",
    "print('Standard deviation = ',std)"
   ]
  },
  {
   "cell_type": "code",
   "execution_count": 10,
   "metadata": {},
   "outputs": [],
   "source": [
    "#thus to remove outliers, we consider only the values with less than 3σ (3*std)\n",
    "\n",
    "dist1 = [x for x in data.Trip_distance if (x > mean - 3 * std)]\n",
    "dist1 = [x for x in dist1 if (x < mean + 3 * std)]\n",
    "dist1 = pd.Series(dist1)"
   ]
  },
  {
   "cell_type": "code",
   "execution_count": 11,
   "metadata": {},
   "outputs": [
    {
     "data": {
      "image/png": "[encoded data removed]",
      "text/plain": [
       "<Figure size 432x288 with 1 Axes>"
      ]
     },
     "metadata": {
      "needs_background": "light"
     },
     "output_type": "display_data"
    }
   ],
   "source": [
    "#To see the outlier-free graph properly, we plot the scatter plot with x-axis limit extending till 30 miles\n",
    "plt.figure()\n",
    "plt.scatter(x =dist1, y = pd.Series(range(len(dist1))), color= \"green\",  \n",
    "            marker= \"*\", s=30)\n",
    "plt.xticks(np.arange(0,35, 5))\n",
    "plt.title('Scatter plot after removing outliers')\n",
    "plt.xlabel('Trip Distance in miles')\n",
    "plt.ylabel('Count')\n",
    "\n",
    "\n",
    "plt.show()"
   ]
  },
  {
   "cell_type": "code",
   "execution_count": 12,
   "metadata": {},
   "outputs": [
    {
     "data": {
      "image/png": "[encoded data removed]",
      "text/plain": [
       "<Figure size 432x288 with 1 Axes>"
      ]
     },
     "metadata": {
      "needs_background": "light"
     },
     "output_type": "display_data"
    }
   ],
   "source": [
    "#We can confirm our results by observing the box plot shown below.\n",
    "plt.boxplot(dist1)\n",
    "plt.show()"
   ]
  },
  {
   "cell_type": "code",
   "execution_count": 13,
   "metadata": {},
   "outputs": [
    {
     "data": {
      "text/plain": [
       "Text(0, 0.5, 'Count')"
      ]
     },
     "execution_count": 13,
     "metadata": {},
     "output_type": "execute_result"
    },
    {
     "data": {
      "image/png": "[encoded data removed]",
      "text/plain": [
       "<Figure size 432x288 with 1 Axes>"
      ]
     },
     "metadata": {
      "needs_background": "light"
     },
     "output_type": "display_data"
    }
   ],
   "source": [
    "\n",
    "dist1.hist(bins = 30, rwidth= 0.9)\n",
    "plt.title('Histogram of Trip distance after removing outliers')\n",
    "plt.xlabel('Trip Distance in miles')\n",
    "plt.ylabel('Count')\n",
    "\n"
   ]
  },
  {
   "cell_type": "markdown",
   "metadata": {},
   "source": [
    "We can see that the histogram after removal of outliers shows lognormal behavior. This confirms that, the trips are not random, as we would have gotten gaussian behavior in that case. \n",
    "It pretty much makes sense for this histogram to behave in such a way as taxi trips are often but not always, for commuting for work, so office hours should have an impact on it.\n"
   ]
  },
  {
   "cell_type": "markdown",
   "metadata": {},
   "source": [
    "Solution for Question 3A "
   ]
  },
  {
   "cell_type": "code",
   "execution_count": 14,
   "metadata": {},
   "outputs": [
    {
     "data": {
      "text/plain": [
       "Text(0.5, 0, 'Time in Hours')"
      ]
     },
     "execution_count": 14,
     "metadata": {},
     "output_type": "execute_result"
    },
    {
     "data": {
      "image/png": "[encoded data removed]",
      "text/plain": [
       "<Figure size 432x288 with 1 Axes>"
      ]
     },
     "metadata": {
      "needs_background": "light"
     },
     "output_type": "display_data"
    }
   ],
   "source": [
    "\n",
    "pickupTime = pd.to_datetime(data['lpep_pickup_datetime'])\n",
    "\n",
    "q3 = data.groupby(pickupTime.dt.hour, as_index = False)['Trip_distance'].agg({'Mean Distance':'mean', 'Median Distance':'median'})\n",
    "q3.index.names=['PickUp Hour']\n",
    "\n",
    "\n",
    "q3.plot.bar()\n",
    "plt.ylabel('Distance in miles')\n",
    "plt.xticks(rotation = 0)\n",
    "plt.xlabel('Time in Hours')"
   ]
  },
  {
   "cell_type": "markdown",
   "metadata": {},
   "source": [
    "We can conclude that the mean and median of distance of trips is maximum during the morning time from  4.00 -6.00 hrs "
   ]
  },
  {
   "cell_type": "code",
   "execution_count": 15,
   "metadata": {},
   "outputs": [
    {
     "name": "stdout",
     "output_type": "stream",
     "text": [
      "             Mean Distance  Median Distance\n",
      "PickUp Hour                                \n",
      "0                 3.115276             2.20\n",
      "1                 3.017347             2.12\n",
      "2                 3.046176             2.14\n",
      "3                 3.212945             2.20\n",
      "4                 3.526555             2.36\n",
      "5                 4.133474             2.90\n",
      "6                 4.055149             2.84\n",
      "7                 3.284394             2.17\n",
      "8                 3.048450             1.98\n",
      "9                 2.999105             1.96\n",
      "10                2.944482             1.92\n",
      "11                2.912015             1.88\n",
      "12                2.903065             1.89\n",
      "13                2.878294             1.84\n",
      "14                2.864304             1.83\n",
      "15                2.857040             1.81\n",
      "16                2.779852             1.80\n",
      "17                2.679114             1.78\n",
      "18                2.653222             1.80\n",
      "19                2.715597             1.85\n",
      "20                2.777052             1.90\n",
      "21                2.999189             2.03\n",
      "22                3.185394             2.20\n",
      "23                3.191538             2.22\n"
     ]
    }
   ],
   "source": [
    "print(q3)"
   ]
  },
  {
   "cell_type": "markdown",
   "metadata": {},
   "source": [
    "We can confirm our conclusion with the above values."
   ]
  },
  {
   "cell_type": "markdown",
   "metadata": {},
   "source": [
    "Solution for Question 3B\n"
   ]
  },
  {
   "cell_type": "markdown",
   "metadata": {},
   "source": [
    "There are three main airports lying in and near NYC area : 1) JFK, 2) LaGuardia ,3) EWR (Newark) \n",
    "We have RateCodeIDs of JFK and Newark (we make assumption that trip to Newark is mainly for EWR airport)\n",
    "For LGA, I have taken approximate geographical coordinates of the surrounding area of the airport using GoogleMaps.\n"
   ]
  },
  {
   "cell_type": "code",
   "execution_count": 16,
   "metadata": {},
   "outputs": [
    {
     "name": "stdout",
     "output_type": "stream",
     "text": [
      "Count of trips to/from JFK airport:  4435\n",
      "Average fare to/from JFK per trip: $ 49.022\n"
     ]
    }
   ],
   "source": [
    "#1) JFK \n",
    "    \n",
    "JFK = data[(data.RateCodeID==2)]\n",
    "print(\"Count of trips to/from JFK airport: \", JFK.shape[0])\n",
    "print(\"Average fare to/from JFK per trip: $ %.3f\"% JFK.Fare_amount.mean())\n"
   ]
  },
  {
   "cell_type": "code",
   "execution_count": 17,
   "metadata": {},
   "outputs": [
    {
     "name": "stdout",
     "output_type": "stream",
     "text": [
      "Count of trips to/from LGA airport:  15370\n",
      "Average fare to/from LGA per trip: $ 20.593\n"
     ]
    }
   ],
   "source": [
    "#2)LaGuardia Airport (LGA)\n",
    "\n",
    "LGA = data[((data.Pickup_longitude > -73.887825) & (data.Pickup_longitude < -73.860984 )\n",
    "               & (data.Pickup_latitude > 40.768692) & (data.Pickup_latitude < 40.774285)) |\n",
    "              ((data.Dropoff_longitude >  -73.887825) & (data.Dropoff_longitude < -73.860984)\n",
    "               & (data.Dropoff_latitude > 40.768692) & (data.Dropoff_latitude < 40.774285))]\n",
    "print(\"Count of trips to/from LGA airport: \", LGA.shape[0])\n",
    "print(\"Average fare to/from LGA per trip: $ %.3f\"% LGA.Fare_amount.mean())\n"
   ]
  },
  {
   "cell_type": "code",
   "execution_count": 18,
   "metadata": {},
   "outputs": [
    {
     "name": "stdout",
     "output_type": "stream",
     "text": [
      "Count of trips to/from EWR airport:  1117\n",
      "Average fare to/from EWR per trip: $ 48.799\n"
     ]
    }
   ],
   "source": [
    "#3)Newark (Considering EWR Airport)\n",
    "\n",
    "EWR = data[(data.RateCodeID==3)]\n",
    "print(\"Count of trips to/from EWR airport: \", EWR.shape[0])\n",
    "print(\"Average fare to/from EWR per trip: $ %.3f\"% EWR.Fare_amount.mean())\n",
    "\n"
   ]
  },
  {
   "cell_type": "code",
   "execution_count": 19,
   "metadata": {},
   "outputs": [
    {
     "data": {
      "text/plain": [
       "<matplotlib.legend.Legend at 0x23381d20ef0>"
      ]
     },
     "execution_count": 19,
     "metadata": {},
     "output_type": "execute_result"
    },
    {
     "data": {
      "image/png": "[encoded data removed]",
      "text/plain": [
       "<Figure size 432x288 with 1 Axes>"
      ]
     },
     "metadata": {
      "needs_background": "light"
     },
     "output_type": "display_data"
    },
    {
     "data": {
      "image/png": "[encoded data removed]",
      "text/plain": [
       "<Figure size 432x288 with 1 Axes>"
      ]
     },
     "metadata": {
      "needs_background": "light"
     },
     "output_type": "display_data"
    },
    {
     "data": {
      "image/png": "[encoded data removed]",
      "text/plain": [
       "<Figure size 432x288 with 1 Axes>"
      ]
     },
     "metadata": {
      "needs_background": "light"
     },
     "output_type": "display_data"
    }
   ],
   "source": [
    "#Plots:\n",
    "\n",
    "plt.figure()           \n",
    "plt.plot(JFK.groupby(pd.to_datetime(JFK['lpep_pickup_datetime']).dt.hour)['lpep_pickup_datetime'].count(), label = 'JFK')\n",
    "plt.xlabel('Hours of Day')\n",
    "plt.ylabel('Number Of Trips')\n",
    "plt.title('Number of Trips vs hours of day')\n",
    "plt.legend()\n",
    "\n",
    "plt.figure()\n",
    "plt.plot(LGA.groupby(pd.to_datetime(LGA['lpep_pickup_datetime']).dt.hour)['lpep_pickup_datetime'].count(), label = 'LGA')\n",
    "plt.xlabel('Hours of Day')\n",
    "plt.ylabel('Number Of Trips')\n",
    "plt.title('Number of Trips vs hours of day')\n",
    "plt.legend()\n",
    "\n",
    "plt.figure()\n",
    "plt.plot(EWR.groupby(pd.to_datetime(EWR['lpep_pickup_datetime']).dt.hour)['lpep_pickup_datetime'].count(), label = 'EWR')\n",
    "plt.xlabel('Hours of Day')\n",
    "plt.ylabel('Number Of Trips')\n",
    "plt.title('Number of Trips vs hours of day')\n",
    "plt.legend()\n",
    "\n"
   ]
  },
  {
   "cell_type": "markdown",
   "metadata": {},
   "source": [
    "We can observe, the JFK trips are more in number during the evening time after 4.00 pm . \n",
    "No. of trips to LGA are relatively higher than the other two, perhaps because it doesn't have any metro/subway or train services reaching airport. Newark Airport trips show strange behavior, maybe, the RateCode wasn't the factor we should be considering. But overall , it looks to be at peak around early evening period."
   ]
  },
  {
   "cell_type": "code",
   "execution_count": 20,
   "metadata": {},
   "outputs": [
    {
     "data": {
      "text/plain": [
       "<matplotlib.legend.Legend at 0x23381e50550>"
      ]
     },
     "execution_count": 20,
     "metadata": {},
     "output_type": "execute_result"
    },
    {
     "data": {
      "image/png": "[encoded data removed]",
      "text/plain": [
       "<Figure size 432x288 with 1 Axes>"
      ]
     },
     "metadata": {
      "needs_background": "light"
     },
     "output_type": "display_data"
    },
    {
     "data": {
      "image/png": "[encoded data removed]",
      "text/plain": [
       "<Figure size 432x288 with 1 Axes>"
      ]
     },
     "metadata": {
      "needs_background": "light"
     },
     "output_type": "display_data"
    },
    {
     "data": {
      "image/png": "[encoded data removed]",
      "text/plain": [
       "<Figure size 432x288 with 1 Axes>"
      ]
     },
     "metadata": {
      "needs_background": "light"
     },
     "output_type": "display_data"
    }
   ],
   "source": [
    "\n",
    "#Plots for Number of trips vs. days of week\t      \n",
    "\n",
    "plt.figure()           \n",
    "plt.plot(JFK.groupby(pd.to_datetime(JFK['lpep_pickup_datetime']).dt.dayofweek)['lpep_pickup_datetime'].count(), label = 'JFK')\n",
    "plt.xlabel('Days of Week starting from Monday')\n",
    "plt.ylabel('Number Of Trips')\n",
    "plt.title('Number of Trips vs days of week')\n",
    "plt.legend()\n",
    "\n",
    "plt.figure()\n",
    "plt.plot(LGA.groupby(pd.to_datetime(LGA['lpep_pickup_datetime']).dt.dayofweek)['lpep_pickup_datetime'].count(), label = 'LGA')\n",
    "plt.xlabel('Days of Week starting from Monday')\n",
    "plt.ylabel('Number Of Trips')\n",
    "plt.title('Number of Trips vs days of week')\n",
    "plt.legend()\n",
    "\n",
    "plt.figure()\n",
    "plt.plot(EWR.groupby(pd.to_datetime(EWR['lpep_pickup_datetime']).dt.dayofweek)['lpep_pickup_datetime'].count(), label = 'EWR')\n",
    "plt.xlabel('Days of Week starting from Monday')\n",
    "plt.ylabel('Number Of Trips')\n",
    "plt.title('Number of Trips vs days of week')\n",
    "plt.legend()\n",
    "\n"
   ]
  },
  {
   "cell_type": "markdown",
   "metadata": {},
   "source": [
    "JFK trips show upward trend for wednesdays and thursday-fridays.\n",
    "LGA has highest no. of trips on saturdays\n",
    "EWR (Newark) shows around 190 no. of trips on tuesdays and approximately 177 on saturdays."
   ]
  },
  {
   "cell_type": "code",
   "execution_count": 21,
   "metadata": {},
   "outputs": [
    {
     "data": {
      "text/html": [
       "<div>\n",
       "<style scoped>\n",
       "    .dataframe tbody tr th:only-of-type {\n",
       "        vertical-align: middle;\n",
       "    }\n",
       "\n",
       "    .dataframe tbody tr th {\n",
       "        vertical-align: top;\n",
       "    }\n",
       "\n",
       "    .dataframe thead th {\n",
       "        text-align: right;\n",
       "    }\n",
       "</style>\n",
       "<table border=\"1\" class=\"dataframe\">\n",
       "  <thead>\n",
       "    <tr style=\"text-align: right;\">\n",
       "      <th></th>\n",
       "      <th>VendorID</th>\n",
       "      <th>RateCodeID</th>\n",
       "      <th>Pickup_longitude</th>\n",
       "      <th>Pickup_latitude</th>\n",
       "      <th>Dropoff_longitude</th>\n",
       "      <th>Dropoff_latitude</th>\n",
       "      <th>Passenger_count</th>\n",
       "      <th>Trip_distance</th>\n",
       "      <th>Fare_amount</th>\n",
       "      <th>Extra</th>\n",
       "      <th>MTA_tax</th>\n",
       "      <th>Tip_amount</th>\n",
       "      <th>Tolls_amount</th>\n",
       "      <th>Ehail_fee</th>\n",
       "      <th>improvement_surcharge</th>\n",
       "      <th>Total_amount</th>\n",
       "      <th>Payment_type</th>\n",
       "      <th>Trip_type</th>\n",
       "    </tr>\n",
       "  </thead>\n",
       "  <tbody>\n",
       "    <tr>\n",
       "      <th>count</th>\n",
       "      <td>1.494926e+06</td>\n",
       "      <td>1.494926e+06</td>\n",
       "      <td>1.494926e+06</td>\n",
       "      <td>1.494926e+06</td>\n",
       "      <td>1.494926e+06</td>\n",
       "      <td>1.494926e+06</td>\n",
       "      <td>1.494926e+06</td>\n",
       "      <td>1.494926e+06</td>\n",
       "      <td>1.494926e+06</td>\n",
       "      <td>1.494926e+06</td>\n",
       "      <td>1.494926e+06</td>\n",
       "      <td>1.494926e+06</td>\n",
       "      <td>1.494926e+06</td>\n",
       "      <td>0.0</td>\n",
       "      <td>1.494926e+06</td>\n",
       "      <td>1.494926e+06</td>\n",
       "      <td>1.494926e+06</td>\n",
       "      <td>1.494922e+06</td>\n",
       "    </tr>\n",
       "    <tr>\n",
       "      <th>mean</th>\n",
       "      <td>1.782045e+00</td>\n",
       "      <td>1.097653e+00</td>\n",
       "      <td>-7.383084e+01</td>\n",
       "      <td>4.069114e+01</td>\n",
       "      <td>-7.383728e+01</td>\n",
       "      <td>4.069291e+01</td>\n",
       "      <td>1.370598e+00</td>\n",
       "      <td>2.968141e+00</td>\n",
       "      <td>1.254320e+01</td>\n",
       "      <td>3.512800e-01</td>\n",
       "      <td>4.866408e-01</td>\n",
       "      <td>1.235727e+00</td>\n",
       "      <td>1.231047e-01</td>\n",
       "      <td>NaN</td>\n",
       "      <td>2.920991e-01</td>\n",
       "      <td>1.503215e+01</td>\n",
       "      <td>1.540559e+00</td>\n",
       "      <td>1.022353e+00</td>\n",
       "    </tr>\n",
       "    <tr>\n",
       "      <th>std</th>\n",
       "      <td>4.128570e-01</td>\n",
       "      <td>6.359437e-01</td>\n",
       "      <td>2.776082e+00</td>\n",
       "      <td>1.530882e+00</td>\n",
       "      <td>2.677911e+00</td>\n",
       "      <td>1.476698e+00</td>\n",
       "      <td>1.039426e+00</td>\n",
       "      <td>3.076621e+00</td>\n",
       "      <td>1.008278e+01</td>\n",
       "      <td>3.663096e-01</td>\n",
       "      <td>8.504473e-02</td>\n",
       "      <td>2.431476e+00</td>\n",
       "      <td>8.910137e-01</td>\n",
       "      <td>NaN</td>\n",
       "      <td>5.074009e-02</td>\n",
       "      <td>1.155316e+01</td>\n",
       "      <td>5.232935e-01</td>\n",
       "      <td>1.478288e-01</td>\n",
       "    </tr>\n",
       "    <tr>\n",
       "      <th>min</th>\n",
       "      <td>1.000000e+00</td>\n",
       "      <td>1.000000e+00</td>\n",
       "      <td>-8.331908e+01</td>\n",
       "      <td>0.000000e+00</td>\n",
       "      <td>-8.342784e+01</td>\n",
       "      <td>0.000000e+00</td>\n",
       "      <td>0.000000e+00</td>\n",
       "      <td>0.000000e+00</td>\n",
       "      <td>-4.750000e+02</td>\n",
       "      <td>-1.000000e+00</td>\n",
       "      <td>-5.000000e-01</td>\n",
       "      <td>-5.000000e+01</td>\n",
       "      <td>-1.529000e+01</td>\n",
       "      <td>NaN</td>\n",
       "      <td>-3.000000e-01</td>\n",
       "      <td>-4.750000e+02</td>\n",
       "      <td>1.000000e+00</td>\n",
       "      <td>1.000000e+00</td>\n",
       "    </tr>\n",
       "    <tr>\n",
       "      <th>25%</th>\n",
       "      <td>2.000000e+00</td>\n",
       "      <td>1.000000e+00</td>\n",
       "      <td>-7.395961e+01</td>\n",
       "      <td>4.069895e+01</td>\n",
       "      <td>-7.396782e+01</td>\n",
       "      <td>4.069878e+01</td>\n",
       "      <td>1.000000e+00</td>\n",
       "      <td>1.100000e+00</td>\n",
       "      <td>6.500000e+00</td>\n",
       "      <td>0.000000e+00</td>\n",
       "      <td>5.000000e-01</td>\n",
       "      <td>0.000000e+00</td>\n",
       "      <td>0.000000e+00</td>\n",
       "      <td>NaN</td>\n",
       "      <td>3.000000e-01</td>\n",
       "      <td>8.160000e+00</td>\n",
       "      <td>1.000000e+00</td>\n",
       "      <td>1.000000e+00</td>\n",
       "    </tr>\n",
       "    <tr>\n",
       "      <th>50%</th>\n",
       "      <td>2.000000e+00</td>\n",
       "      <td>1.000000e+00</td>\n",
       "      <td>-7.394536e+01</td>\n",
       "      <td>4.074674e+01</td>\n",
       "      <td>-7.394504e+01</td>\n",
       "      <td>4.074728e+01</td>\n",
       "      <td>1.000000e+00</td>\n",
       "      <td>1.980000e+00</td>\n",
       "      <td>9.500000e+00</td>\n",
       "      <td>5.000000e-01</td>\n",
       "      <td>5.000000e-01</td>\n",
       "      <td>0.000000e+00</td>\n",
       "      <td>0.000000e+00</td>\n",
       "      <td>NaN</td>\n",
       "      <td>3.000000e-01</td>\n",
       "      <td>1.176000e+01</td>\n",
       "      <td>2.000000e+00</td>\n",
       "      <td>1.000000e+00</td>\n",
       "    </tr>\n",
       "    <tr>\n",
       "      <th>75%</th>\n",
       "      <td>2.000000e+00</td>\n",
       "      <td>1.000000e+00</td>\n",
       "      <td>-7.391748e+01</td>\n",
       "      <td>4.080255e+01</td>\n",
       "      <td>-7.391013e+01</td>\n",
       "      <td>4.079015e+01</td>\n",
       "      <td>1.000000e+00</td>\n",
       "      <td>3.740000e+00</td>\n",
       "      <td>1.550000e+01</td>\n",
       "      <td>5.000000e-01</td>\n",
       "      <td>5.000000e-01</td>\n",
       "      <td>2.000000e+00</td>\n",
       "      <td>0.000000e+00</td>\n",
       "      <td>NaN</td>\n",
       "      <td>3.000000e-01</td>\n",
       "      <td>1.830000e+01</td>\n",
       "      <td>2.000000e+00</td>\n",
       "      <td>1.000000e+00</td>\n",
       "    </tr>\n",
       "    <tr>\n",
       "      <th>max</th>\n",
       "      <td>2.000000e+00</td>\n",
       "      <td>9.900000e+01</td>\n",
       "      <td>0.000000e+00</td>\n",
       "      <td>4.317726e+01</td>\n",
       "      <td>0.000000e+00</td>\n",
       "      <td>4.279934e+01</td>\n",
       "      <td>9.000000e+00</td>\n",
       "      <td>6.031000e+02</td>\n",
       "      <td>5.805000e+02</td>\n",
       "      <td>1.200000e+01</td>\n",
       "      <td>5.000000e-01</td>\n",
       "      <td>3.000000e+02</td>\n",
       "      <td>9.575000e+01</td>\n",
       "      <td>NaN</td>\n",
       "      <td>3.000000e-01</td>\n",
       "      <td>5.813000e+02</td>\n",
       "      <td>5.000000e+00</td>\n",
       "      <td>2.000000e+00</td>\n",
       "    </tr>\n",
       "  </tbody>\n",
       "</table>\n",
       "</div>"
      ],
      "text/plain": [
       "           VendorID    RateCodeID  Pickup_longitude  Pickup_latitude  \\\n",
       "count  1.494926e+06  1.494926e+06      1.494926e+06     1.494926e+06   \n",
       "mean   1.782045e+00  1.097653e+00     -7.383084e+01     4.069114e+01   \n",
       "std    4.128570e-01  6.359437e-01      2.776082e+00     1.530882e+00   \n",
       "min    1.000000e+00  1.000000e+00     -8.331908e+01     0.000000e+00   \n",
       "25%    2.000000e+00  1.000000e+00     -7.395961e+01     4.069895e+01   \n",
       "50%    2.000000e+00  1.000000e+00     -7.394536e+01     4.074674e+01   \n",
       "75%    2.000000e+00  1.000000e+00     -7.391748e+01     4.080255e+01   \n",
       "max    2.000000e+00  9.900000e+01      0.000000e+00     4.317726e+01   \n",
       "\n",
       "       Dropoff_longitude  Dropoff_latitude  Passenger_count  Trip_distance  \\\n",
       "count       1.494926e+06      1.494926e+06     1.494926e+06   1.494926e+06   \n",
       "mean       -7.383728e+01      4.069291e+01     1.370598e+00   2.968141e+00   \n",
       "std         2.677911e+00      1.476698e+00     1.039426e+00   3.076621e+00   \n",
       "min        -8.342784e+01      0.000000e+00     0.000000e+00   0.000000e+00   \n",
       "25%        -7.396782e+01      4.069878e+01     1.000000e+00   1.100000e+00   \n",
       "50%        -7.394504e+01      4.074728e+01     1.000000e+00   1.980000e+00   \n",
       "75%        -7.391013e+01      4.079015e+01     1.000000e+00   3.740000e+00   \n",
       "max         0.000000e+00      4.279934e+01     9.000000e+00   6.031000e+02   \n",
       "\n",
       "        Fare_amount         Extra       MTA_tax    Tip_amount  Tolls_amount  \\\n",
       "count  1.494926e+06  1.494926e+06  1.494926e+06  1.494926e+06  1.494926e+06   \n",
       "mean   1.254320e+01  3.512800e-01  4.866408e-01  1.235727e+00  1.231047e-01   \n",
       "std    1.008278e+01  3.663096e-01  8.504473e-02  2.431476e+00  8.910137e-01   \n",
       "min   -4.750000e+02 -1.000000e+00 -5.000000e-01 -5.000000e+01 -1.529000e+01   \n",
       "25%    6.500000e+00  0.000000e+00  5.000000e-01  0.000000e+00  0.000000e+00   \n",
       "50%    9.500000e+00  5.000000e-01  5.000000e-01  0.000000e+00  0.000000e+00   \n",
       "75%    1.550000e+01  5.000000e-01  5.000000e-01  2.000000e+00  0.000000e+00   \n",
       "max    5.805000e+02  1.200000e+01  5.000000e-01  3.000000e+02  9.575000e+01   \n",
       "\n",
       "       Ehail_fee  improvement_surcharge  Total_amount  Payment_type  \\\n",
       "count        0.0           1.494926e+06  1.494926e+06  1.494926e+06   \n",
       "mean         NaN           2.920991e-01  1.503215e+01  1.540559e+00   \n",
       "std          NaN           5.074009e-02  1.155316e+01  5.232935e-01   \n",
       "min          NaN          -3.000000e-01 -4.750000e+02  1.000000e+00   \n",
       "25%          NaN           3.000000e-01  8.160000e+00  1.000000e+00   \n",
       "50%          NaN           3.000000e-01  1.176000e+01  2.000000e+00   \n",
       "75%          NaN           3.000000e-01  1.830000e+01  2.000000e+00   \n",
       "max          NaN           3.000000e-01  5.813000e+02  5.000000e+00   \n",
       "\n",
       "         Trip_type   \n",
       "count  1.494922e+06  \n",
       "mean   1.022353e+00  \n",
       "std    1.478288e-01  \n",
       "min    1.000000e+00  \n",
       "25%    1.000000e+00  \n",
       "50%    1.000000e+00  \n",
       "75%    1.000000e+00  \n",
       "max    2.000000e+00  "
      ]
     },
     "execution_count": 21,
     "metadata": {},
     "output_type": "execute_result"
    }
   ],
   "source": [
    "# Solution for Question 4a \n",
    "#First we take a look at the data.\n",
    "data.describe()"
   ]
  },
  {
   "cell_type": "markdown",
   "metadata": {},
   "source": [
    "We can observe, Fare amount, Extra, MTA tax, Tip amount and Total amount have negative values, which is definitely an error.\n",
    "It is  quite possible that these negative values are the actual values just with the change of sign, so it is better to take absolute value of it and keep in our dataset for now. "
   ]
  },
  {
   "cell_type": "code",
   "execution_count": 22,
   "metadata": {},
   "outputs": [],
   "source": [
    "data['Total_amount'] = data['Total_amount'].abs()\n",
    "data['Fare_amount'] = data['Fare_amount'].abs()\n",
    "data['Tip_amount'] = data['Tip_amount'].abs()\n",
    "data['Extra'] = data['Extra'].abs()\n",
    "data['Tolls_amount'] = data['Tolls_amount'].abs()\n",
    "data['MTA_tax'] = data['MTA_tax'].abs()\n"
   ]
  },
  {
   "cell_type": "code",
   "execution_count": 23,
   "metadata": {},
   "outputs": [
    {
     "name": "stdout",
     "output_type": "stream",
     "text": [
      "Number of rows in Total amount column with values = 0 :  4172\n"
     ]
    }
   ],
   "source": [
    "# Now we check for any 'zero' values in the Total amount column to avoid division by zero while calculating  tip %\n",
    "\n",
    "print('Number of rows in Total amount column with values = 0 : ',np.count_nonzero( data.Total_amount ==0))\n",
    "\n"
   ]
  },
  {
   "cell_type": "code",
   "execution_count": 24,
   "metadata": {},
   "outputs": [
    {
     "name": "stdout",
     "output_type": "stream",
     "text": [
      "Number of rows in Fare amount column with values = 0 :  4468\n"
     ]
    }
   ],
   "source": [
    "#We have 4172 rows where Total_amount == 0\n",
    "#But, it is not possible to have Total_amount = 0, so we can try to impute it but for now we will consider those columns as invalid.\n",
    "\n",
    "#Same applies for Fare_amount\n",
    "print('Number of rows in Fare amount column with values = 0 : ',np.count_nonzero( data.Fare_amount ==0))\n"
   ]
  },
  {
   "cell_type": "code",
   "execution_count": 25,
   "metadata": {},
   "outputs": [],
   "source": [
    "#thus, we create a new dataframe, with all positive cost values\n",
    "c_data = data[(data.Total_amount > 0) & (data.Fare_amount > 0 )]\n"
   ]
  },
  {
   "cell_type": "code",
   "execution_count": 26,
   "metadata": {},
   "outputs": [
    {
     "data": {
      "text/plain": [
       "0"
      ]
     },
     "execution_count": 26,
     "metadata": {},
     "output_type": "execute_result"
    }
   ],
   "source": [
    "#Check for any negative tip amount \n",
    "np.count_nonzero( c_data.Tip_amount < 0)\n"
   ]
  },
  {
   "cell_type": "code",
   "execution_count": 95,
   "metadata": {},
   "outputs": [],
   "source": [
    "#the derived variable for tip is as given below\n",
    "\n",
    "c_data['Tip_percentage'] = 100*(c_data['Tip_amount'] / c_data['Total_amount'])"
   ]
  },
  {
   "cell_type": "code",
   "execution_count": 94,
   "metadata": {},
   "outputs": [
    {
     "data": {
      "text/html": [
       "<div>\n",
       "<style scoped>\n",
       "    .dataframe tbody tr th:only-of-type {\n",
       "        vertical-align: middle;\n",
       "    }\n",
       "\n",
       "    .dataframe tbody tr th {\n",
       "        vertical-align: top;\n",
       "    }\n",
       "\n",
       "    .dataframe thead th {\n",
       "        text-align: right;\n",
       "    }\n",
       "</style>\n",
       "<table border=\"1\" class=\"dataframe\">\n",
       "  <thead>\n",
       "    <tr style=\"text-align: right;\">\n",
       "      <th></th>\n",
       "      <th>VendorID</th>\n",
       "      <th>lpep_pickup_datetime</th>\n",
       "      <th>Lpep_dropoff_datetime</th>\n",
       "      <th>Store_and_fwd_flag</th>\n",
       "      <th>RateCodeID</th>\n",
       "      <th>Pickup_longitude</th>\n",
       "      <th>Pickup_latitude</th>\n",
       "      <th>Dropoff_longitude</th>\n",
       "      <th>Dropoff_latitude</th>\n",
       "      <th>Passenger_count</th>\n",
       "      <th>...</th>\n",
       "      <th>Fare_amount</th>\n",
       "      <th>Extra</th>\n",
       "      <th>MTA_tax</th>\n",
       "      <th>Tip_amount</th>\n",
       "      <th>Tolls_amount</th>\n",
       "      <th>improvement_surcharge</th>\n",
       "      <th>Total_amount</th>\n",
       "      <th>Payment_type</th>\n",
       "      <th>Trip_type</th>\n",
       "      <th>Tip_percentage</th>\n",
       "    </tr>\n",
       "  </thead>\n",
       "  <tbody>\n",
       "    <tr>\n",
       "      <th>0</th>\n",
       "      <td>2</td>\n",
       "      <td>2015-09-01 00:02:34</td>\n",
       "      <td>2015-09-01 00:02:38</td>\n",
       "      <td>N</td>\n",
       "      <td>5</td>\n",
       "      <td>-73.979485</td>\n",
       "      <td>40.684956</td>\n",
       "      <td>-73.979431</td>\n",
       "      <td>40.685020</td>\n",
       "      <td>1</td>\n",
       "      <td>...</td>\n",
       "      <td>7.8</td>\n",
       "      <td>0.0</td>\n",
       "      <td>0.0</td>\n",
       "      <td>1.95</td>\n",
       "      <td>0.0</td>\n",
       "      <td>0.0</td>\n",
       "      <td>9.75</td>\n",
       "      <td>1</td>\n",
       "      <td>2.0</td>\n",
       "      <td>20.000000</td>\n",
       "    </tr>\n",
       "    <tr>\n",
       "      <th>1</th>\n",
       "      <td>2</td>\n",
       "      <td>2015-09-01 00:04:20</td>\n",
       "      <td>2015-09-01 00:04:24</td>\n",
       "      <td>N</td>\n",
       "      <td>5</td>\n",
       "      <td>-74.010796</td>\n",
       "      <td>40.912216</td>\n",
       "      <td>-74.010780</td>\n",
       "      <td>40.912212</td>\n",
       "      <td>1</td>\n",
       "      <td>...</td>\n",
       "      <td>45.0</td>\n",
       "      <td>0.0</td>\n",
       "      <td>0.0</td>\n",
       "      <td>0.00</td>\n",
       "      <td>0.0</td>\n",
       "      <td>0.0</td>\n",
       "      <td>45.00</td>\n",
       "      <td>1</td>\n",
       "      <td>2.0</td>\n",
       "      <td>0.000000</td>\n",
       "    </tr>\n",
       "    <tr>\n",
       "      <th>2</th>\n",
       "      <td>2</td>\n",
       "      <td>2015-09-01 00:01:50</td>\n",
       "      <td>2015-09-01 00:04:24</td>\n",
       "      <td>N</td>\n",
       "      <td>1</td>\n",
       "      <td>-73.921410</td>\n",
       "      <td>40.766708</td>\n",
       "      <td>-73.914413</td>\n",
       "      <td>40.764687</td>\n",
       "      <td>1</td>\n",
       "      <td>...</td>\n",
       "      <td>4.0</td>\n",
       "      <td>0.5</td>\n",
       "      <td>0.5</td>\n",
       "      <td>0.50</td>\n",
       "      <td>0.0</td>\n",
       "      <td>0.3</td>\n",
       "      <td>5.80</td>\n",
       "      <td>1</td>\n",
       "      <td>1.0</td>\n",
       "      <td>8.620690</td>\n",
       "    </tr>\n",
       "    <tr>\n",
       "      <th>3</th>\n",
       "      <td>2</td>\n",
       "      <td>2015-09-01 00:02:36</td>\n",
       "      <td>2015-09-01 00:06:42</td>\n",
       "      <td>N</td>\n",
       "      <td>1</td>\n",
       "      <td>-73.921387</td>\n",
       "      <td>40.766678</td>\n",
       "      <td>-73.931427</td>\n",
       "      <td>40.771584</td>\n",
       "      <td>1</td>\n",
       "      <td>...</td>\n",
       "      <td>5.0</td>\n",
       "      <td>0.5</td>\n",
       "      <td>0.5</td>\n",
       "      <td>0.00</td>\n",
       "      <td>0.0</td>\n",
       "      <td>0.3</td>\n",
       "      <td>6.30</td>\n",
       "      <td>2</td>\n",
       "      <td>1.0</td>\n",
       "      <td>0.000000</td>\n",
       "    </tr>\n",
       "    <tr>\n",
       "      <th>4</th>\n",
       "      <td>2</td>\n",
       "      <td>2015-09-01 00:00:14</td>\n",
       "      <td>2015-09-01 00:04:20</td>\n",
       "      <td>N</td>\n",
       "      <td>1</td>\n",
       "      <td>-73.955482</td>\n",
       "      <td>40.714046</td>\n",
       "      <td>-73.944412</td>\n",
       "      <td>40.714729</td>\n",
       "      <td>1</td>\n",
       "      <td>...</td>\n",
       "      <td>5.0</td>\n",
       "      <td>0.5</td>\n",
       "      <td>0.5</td>\n",
       "      <td>0.00</td>\n",
       "      <td>0.0</td>\n",
       "      <td>0.3</td>\n",
       "      <td>6.30</td>\n",
       "      <td>2</td>\n",
       "      <td>1.0</td>\n",
       "      <td>0.000000</td>\n",
       "    </tr>\n",
       "    <tr>\n",
       "      <th>5</th>\n",
       "      <td>2</td>\n",
       "      <td>2015-09-01 00:00:39</td>\n",
       "      <td>2015-09-01 00:05:20</td>\n",
       "      <td>N</td>\n",
       "      <td>1</td>\n",
       "      <td>-73.945297</td>\n",
       "      <td>40.808186</td>\n",
       "      <td>-73.937668</td>\n",
       "      <td>40.821198</td>\n",
       "      <td>1</td>\n",
       "      <td>...</td>\n",
       "      <td>5.5</td>\n",
       "      <td>0.5</td>\n",
       "      <td>0.5</td>\n",
       "      <td>1.36</td>\n",
       "      <td>0.0</td>\n",
       "      <td>0.3</td>\n",
       "      <td>8.16</td>\n",
       "      <td>1</td>\n",
       "      <td>1.0</td>\n",
       "      <td>16.666667</td>\n",
       "    </tr>\n",
       "    <tr>\n",
       "      <th>6</th>\n",
       "      <td>2</td>\n",
       "      <td>2015-09-01 00:00:52</td>\n",
       "      <td>2015-09-01 00:05:50</td>\n",
       "      <td>N</td>\n",
       "      <td>1</td>\n",
       "      <td>-73.890877</td>\n",
       "      <td>40.746426</td>\n",
       "      <td>-73.876923</td>\n",
       "      <td>40.756306</td>\n",
       "      <td>1</td>\n",
       "      <td>...</td>\n",
       "      <td>6.5</td>\n",
       "      <td>0.5</td>\n",
       "      <td>0.5</td>\n",
       "      <td>0.00</td>\n",
       "      <td>0.0</td>\n",
       "      <td>0.3</td>\n",
       "      <td>7.80</td>\n",
       "      <td>1</td>\n",
       "      <td>1.0</td>\n",
       "      <td>0.000000</td>\n",
       "    </tr>\n",
       "    <tr>\n",
       "      <th>7</th>\n",
       "      <td>2</td>\n",
       "      <td>2015-09-01 00:02:15</td>\n",
       "      <td>2015-09-01 00:05:34</td>\n",
       "      <td>N</td>\n",
       "      <td>1</td>\n",
       "      <td>-73.946701</td>\n",
       "      <td>40.797321</td>\n",
       "      <td>-73.937645</td>\n",
       "      <td>40.804516</td>\n",
       "      <td>1</td>\n",
       "      <td>...</td>\n",
       "      <td>5.0</td>\n",
       "      <td>0.5</td>\n",
       "      <td>0.5</td>\n",
       "      <td>0.00</td>\n",
       "      <td>0.0</td>\n",
       "      <td>0.3</td>\n",
       "      <td>6.30</td>\n",
       "      <td>2</td>\n",
       "      <td>1.0</td>\n",
       "      <td>0.000000</td>\n",
       "    </tr>\n",
       "    <tr>\n",
       "      <th>8</th>\n",
       "      <td>2</td>\n",
       "      <td>2015-09-01 00:02:36</td>\n",
       "      <td>2015-09-01 00:07:20</td>\n",
       "      <td>N</td>\n",
       "      <td>1</td>\n",
       "      <td>-73.963150</td>\n",
       "      <td>40.693829</td>\n",
       "      <td>-73.956787</td>\n",
       "      <td>40.680531</td>\n",
       "      <td>1</td>\n",
       "      <td>...</td>\n",
       "      <td>6.0</td>\n",
       "      <td>0.5</td>\n",
       "      <td>0.5</td>\n",
       "      <td>1.46</td>\n",
       "      <td>0.0</td>\n",
       "      <td>0.3</td>\n",
       "      <td>8.76</td>\n",
       "      <td>1</td>\n",
       "      <td>1.0</td>\n",
       "      <td>16.666667</td>\n",
       "    </tr>\n",
       "    <tr>\n",
       "      <th>9</th>\n",
       "      <td>2</td>\n",
       "      <td>2015-09-01 00:02:13</td>\n",
       "      <td>2015-09-01 00:07:23</td>\n",
       "      <td>N</td>\n",
       "      <td>1</td>\n",
       "      <td>-73.896820</td>\n",
       "      <td>40.746128</td>\n",
       "      <td>-73.888626</td>\n",
       "      <td>40.752724</td>\n",
       "      <td>1</td>\n",
       "      <td>...</td>\n",
       "      <td>5.5</td>\n",
       "      <td>0.5</td>\n",
       "      <td>0.5</td>\n",
       "      <td>0.00</td>\n",
       "      <td>0.0</td>\n",
       "      <td>0.3</td>\n",
       "      <td>6.80</td>\n",
       "      <td>2</td>\n",
       "      <td>1.0</td>\n",
       "      <td>0.000000</td>\n",
       "    </tr>\n",
       "  </tbody>\n",
       "</table>\n",
       "<p>10 rows × 21 columns</p>\n",
       "</div>"
      ],
      "text/plain": [
       "   VendorID lpep_pickup_datetime Lpep_dropoff_datetime Store_and_fwd_flag  \\\n",
       "0         2  2015-09-01 00:02:34   2015-09-01 00:02:38                  N   \n",
       "1         2  2015-09-01 00:04:20   2015-09-01 00:04:24                  N   \n",
       "2         2  2015-09-01 00:01:50   2015-09-01 00:04:24                  N   \n",
       "3         2  2015-09-01 00:02:36   2015-09-01 00:06:42                  N   \n",
       "4         2  2015-09-01 00:00:14   2015-09-01 00:04:20                  N   \n",
       "5         2  2015-09-01 00:00:39   2015-09-01 00:05:20                  N   \n",
       "6         2  2015-09-01 00:00:52   2015-09-01 00:05:50                  N   \n",
       "7         2  2015-09-01 00:02:15   2015-09-01 00:05:34                  N   \n",
       "8         2  2015-09-01 00:02:36   2015-09-01 00:07:20                  N   \n",
       "9         2  2015-09-01 00:02:13   2015-09-01 00:07:23                  N   \n",
       "\n",
       "   RateCodeID  Pickup_longitude  Pickup_latitude  Dropoff_longitude  \\\n",
       "0           5        -73.979485        40.684956         -73.979431   \n",
       "1           5        -74.010796        40.912216         -74.010780   \n",
       "2           1        -73.921410        40.766708         -73.914413   \n",
       "3           1        -73.921387        40.766678         -73.931427   \n",
       "4           1        -73.955482        40.714046         -73.944412   \n",
       "5           1        -73.945297        40.808186         -73.937668   \n",
       "6           1        -73.890877        40.746426         -73.876923   \n",
       "7           1        -73.946701        40.797321         -73.937645   \n",
       "8           1        -73.963150        40.693829         -73.956787   \n",
       "9           1        -73.896820        40.746128         -73.888626   \n",
       "\n",
       "   Dropoff_latitude  Passenger_count  ...  Fare_amount  Extra  MTA_tax  \\\n",
       "0         40.685020                1  ...          7.8    0.0      0.0   \n",
       "1         40.912212                1  ...         45.0    0.0      0.0   \n",
       "2         40.764687                1  ...          4.0    0.5      0.5   \n",
       "3         40.771584                1  ...          5.0    0.5      0.5   \n",
       "4         40.714729                1  ...          5.0    0.5      0.5   \n",
       "5         40.821198                1  ...          5.5    0.5      0.5   \n",
       "6         40.756306                1  ...          6.5    0.5      0.5   \n",
       "7         40.804516                1  ...          5.0    0.5      0.5   \n",
       "8         40.680531                1  ...          6.0    0.5      0.5   \n",
       "9         40.752724                1  ...          5.5    0.5      0.5   \n",
       "\n",
       "   Tip_amount  Tolls_amount  improvement_surcharge  Total_amount  \\\n",
       "0        1.95           0.0                    0.0          9.75   \n",
       "1        0.00           0.0                    0.0         45.00   \n",
       "2        0.50           0.0                    0.3          5.80   \n",
       "3        0.00           0.0                    0.3          6.30   \n",
       "4        0.00           0.0                    0.3          6.30   \n",
       "5        1.36           0.0                    0.3          8.16   \n",
       "6        0.00           0.0                    0.3          7.80   \n",
       "7        0.00           0.0                    0.3          6.30   \n",
       "8        1.46           0.0                    0.3          8.76   \n",
       "9        0.00           0.0                    0.3          6.80   \n",
       "\n",
       "   Payment_type  Trip_type  Tip_percentage  \n",
       "0             1        2.0       20.000000  \n",
       "1             1        2.0        0.000000  \n",
       "2             1        1.0        8.620690  \n",
       "3             2        1.0        0.000000  \n",
       "4             2        1.0        0.000000  \n",
       "5             1        1.0       16.666667  \n",
       "6             1        1.0        0.000000  \n",
       "7             2        1.0        0.000000  \n",
       "8             1        1.0       16.666667  \n",
       "9             2        1.0        0.000000  \n",
       "\n",
       "[10 rows x 21 columns]"
      ]
     },
     "execution_count": 94,
     "metadata": {},
     "output_type": "execute_result"
    }
   ],
   "source": [
    "\n",
    "c_data.head(10)\n"
   ]
  },
  {
   "cell_type": "code",
   "execution_count": 28,
   "metadata": {},
   "outputs": [
    {
     "data": {
      "text/plain": [
       "0"
      ]
     },
     "execution_count": 28,
     "metadata": {},
     "output_type": "execute_result"
    }
   ],
   "source": [
    "#we check for any Null (missing) values in the Tip_percentage column, there should be none.\n",
    "c_data['Tip_percentage'].isna().sum()\n"
   ]
  },
  {
   "cell_type": "markdown",
   "metadata": {},
   "source": [
    "Thus, we obtained a derived variable for tip percentage. \n",
    "So let us process with building a predictive model for the same."
   ]
  },
  {
   "cell_type": "markdown",
   "metadata": {},
   "source": [
    "Solution for Question 4 b"
   ]
  },
  {
   "cell_type": "code",
   "execution_count": 29,
   "metadata": {},
   "outputs": [
    {
     "data": {
      "text/plain": [
       "VendorID                       0\n",
       "lpep_pickup_datetime           0\n",
       "Lpep_dropoff_datetime          0\n",
       "Store_and_fwd_flag             0\n",
       "RateCodeID                     0\n",
       "Pickup_longitude               0\n",
       "Pickup_latitude                0\n",
       "Dropoff_longitude              0\n",
       "Dropoff_latitude               0\n",
       "Passenger_count                0\n",
       "Trip_distance                  0\n",
       "Fare_amount                    0\n",
       "Extra                          0\n",
       "MTA_tax                        0\n",
       "Tip_amount                     0\n",
       "Tolls_amount                   0\n",
       "Ehail_fee                1490458\n",
       "improvement_surcharge          0\n",
       "Total_amount                   0\n",
       "Payment_type                   0\n",
       "Trip_type                      4\n",
       "Tip_percentage                 0\n",
       "dtype: int64"
      ]
     },
     "execution_count": 29,
     "metadata": {},
     "output_type": "execute_result"
    }
   ],
   "source": [
    "#We begin with the clean_data dataframe from Q4a.\n",
    "\n",
    "#Let us check for missing values\n",
    "c_data.isna().sum()"
   ]
  },
  {
   "cell_type": "code",
   "execution_count": 30,
   "metadata": {},
   "outputs": [],
   "source": [
    "#We can see, the column 'Ehail_fee' has almost all row values missing.\n",
    "#Thus, there's no harm in dropping the entire column.\n",
    "\n",
    "c_data = c_data.drop(['Ehail_fee'], axis = 1)\n"
   ]
  },
  {
   "cell_type": "code",
   "execution_count": 31,
   "metadata": {},
   "outputs": [
    {
     "data": {
      "text/html": [
       "<div>\n",
       "<style scoped>\n",
       "    .dataframe tbody tr th:only-of-type {\n",
       "        vertical-align: middle;\n",
       "    }\n",
       "\n",
       "    .dataframe tbody tr th {\n",
       "        vertical-align: top;\n",
       "    }\n",
       "\n",
       "    .dataframe thead th {\n",
       "        text-align: right;\n",
       "    }\n",
       "</style>\n",
       "<table border=\"1\" class=\"dataframe\">\n",
       "  <thead>\n",
       "    <tr style=\"text-align: right;\">\n",
       "      <th></th>\n",
       "      <th>VendorID</th>\n",
       "      <th>lpep_pickup_datetime</th>\n",
       "      <th>Lpep_dropoff_datetime</th>\n",
       "      <th>Store_and_fwd_flag</th>\n",
       "      <th>RateCodeID</th>\n",
       "      <th>Pickup_longitude</th>\n",
       "      <th>Pickup_latitude</th>\n",
       "      <th>Dropoff_longitude</th>\n",
       "      <th>Dropoff_latitude</th>\n",
       "      <th>Passenger_count</th>\n",
       "      <th>...</th>\n",
       "      <th>Fare_amount</th>\n",
       "      <th>Extra</th>\n",
       "      <th>MTA_tax</th>\n",
       "      <th>Tip_amount</th>\n",
       "      <th>Tolls_amount</th>\n",
       "      <th>improvement_surcharge</th>\n",
       "      <th>Total_amount</th>\n",
       "      <th>Payment_type</th>\n",
       "      <th>Trip_type</th>\n",
       "      <th>Tip_percentage</th>\n",
       "    </tr>\n",
       "  </thead>\n",
       "  <tbody>\n",
       "    <tr>\n",
       "      <th>984680</th>\n",
       "      <td>1</td>\n",
       "      <td>2015-09-20 05:49:23</td>\n",
       "      <td>2015-09-20 09:49:23</td>\n",
       "      <td>Y</td>\n",
       "      <td>99</td>\n",
       "      <td>-73.932220</td>\n",
       "      <td>40.800476</td>\n",
       "      <td>0.0</td>\n",
       "      <td>0.0</td>\n",
       "      <td>0</td>\n",
       "      <td>...</td>\n",
       "      <td>17.30</td>\n",
       "      <td>0.0</td>\n",
       "      <td>0.0</td>\n",
       "      <td>0.0</td>\n",
       "      <td>0.0</td>\n",
       "      <td>0.0</td>\n",
       "      <td>17.30</td>\n",
       "      <td>1</td>\n",
       "      <td>NaN</td>\n",
       "      <td>0.0</td>\n",
       "    </tr>\n",
       "    <tr>\n",
       "      <th>985599</th>\n",
       "      <td>1</td>\n",
       "      <td>2015-09-20 06:27:40</td>\n",
       "      <td>2015-09-20 10:27:40</td>\n",
       "      <td>Y</td>\n",
       "      <td>99</td>\n",
       "      <td>-73.899170</td>\n",
       "      <td>40.746098</td>\n",
       "      <td>0.0</td>\n",
       "      <td>0.0</td>\n",
       "      <td>0</td>\n",
       "      <td>...</td>\n",
       "      <td>12.35</td>\n",
       "      <td>0.0</td>\n",
       "      <td>0.0</td>\n",
       "      <td>0.0</td>\n",
       "      <td>0.0</td>\n",
       "      <td>0.0</td>\n",
       "      <td>12.35</td>\n",
       "      <td>1</td>\n",
       "      <td>NaN</td>\n",
       "      <td>0.0</td>\n",
       "    </tr>\n",
       "    <tr>\n",
       "      <th>985620</th>\n",
       "      <td>1</td>\n",
       "      <td>2015-09-20 06:22:12</td>\n",
       "      <td>2015-09-20 10:22:12</td>\n",
       "      <td>Y</td>\n",
       "      <td>99</td>\n",
       "      <td>-73.957703</td>\n",
       "      <td>40.717789</td>\n",
       "      <td>0.0</td>\n",
       "      <td>0.0</td>\n",
       "      <td>0</td>\n",
       "      <td>...</td>\n",
       "      <td>23.15</td>\n",
       "      <td>0.0</td>\n",
       "      <td>0.0</td>\n",
       "      <td>0.0</td>\n",
       "      <td>0.0</td>\n",
       "      <td>0.0</td>\n",
       "      <td>23.15</td>\n",
       "      <td>1</td>\n",
       "      <td>NaN</td>\n",
       "      <td>0.0</td>\n",
       "    </tr>\n",
       "    <tr>\n",
       "      <th>1070054</th>\n",
       "      <td>1</td>\n",
       "      <td>2015-09-22 06:43:33</td>\n",
       "      <td>2015-09-22 10:43:33</td>\n",
       "      <td>Y</td>\n",
       "      <td>99</td>\n",
       "      <td>-73.928520</td>\n",
       "      <td>40.692528</td>\n",
       "      <td>0.0</td>\n",
       "      <td>0.0</td>\n",
       "      <td>0</td>\n",
       "      <td>...</td>\n",
       "      <td>20.30</td>\n",
       "      <td>0.0</td>\n",
       "      <td>0.0</td>\n",
       "      <td>0.0</td>\n",
       "      <td>0.0</td>\n",
       "      <td>0.0</td>\n",
       "      <td>20.30</td>\n",
       "      <td>3</td>\n",
       "      <td>NaN</td>\n",
       "      <td>0.0</td>\n",
       "    </tr>\n",
       "  </tbody>\n",
       "</table>\n",
       "<p>4 rows × 21 columns</p>\n",
       "</div>"
      ],
      "text/plain": [
       "         VendorID lpep_pickup_datetime Lpep_dropoff_datetime  \\\n",
       "984680          1  2015-09-20 05:49:23   2015-09-20 09:49:23   \n",
       "985599          1  2015-09-20 06:27:40   2015-09-20 10:27:40   \n",
       "985620          1  2015-09-20 06:22:12   2015-09-20 10:22:12   \n",
       "1070054         1  2015-09-22 06:43:33   2015-09-22 10:43:33   \n",
       "\n",
       "        Store_and_fwd_flag  RateCodeID  Pickup_longitude  Pickup_latitude  \\\n",
       "984680                   Y          99        -73.932220        40.800476   \n",
       "985599                   Y          99        -73.899170        40.746098   \n",
       "985620                   Y          99        -73.957703        40.717789   \n",
       "1070054                  Y          99        -73.928520        40.692528   \n",
       "\n",
       "         Dropoff_longitude  Dropoff_latitude  Passenger_count  ...  \\\n",
       "984680                 0.0               0.0                0  ...   \n",
       "985599                 0.0               0.0                0  ...   \n",
       "985620                 0.0               0.0                0  ...   \n",
       "1070054                0.0               0.0                0  ...   \n",
       "\n",
       "         Fare_amount  Extra  MTA_tax  Tip_amount  Tolls_amount  \\\n",
       "984680         17.30    0.0      0.0         0.0           0.0   \n",
       "985599         12.35    0.0      0.0         0.0           0.0   \n",
       "985620         23.15    0.0      0.0         0.0           0.0   \n",
       "1070054        20.30    0.0      0.0         0.0           0.0   \n",
       "\n",
       "         improvement_surcharge  Total_amount  Payment_type  Trip_type  \\\n",
       "984680                     0.0         17.30             1        NaN   \n",
       "985599                     0.0         12.35             1        NaN   \n",
       "985620                     0.0         23.15             1        NaN   \n",
       "1070054                    0.0         20.30             3        NaN   \n",
       "\n",
       "         Tip_percentage  \n",
       "984680              0.0  \n",
       "985599              0.0  \n",
       "985620              0.0  \n",
       "1070054             0.0  \n",
       "\n",
       "[4 rows x 21 columns]"
      ]
     },
     "execution_count": 31,
     "metadata": {},
     "output_type": "execute_result"
    }
   ],
   "source": [
    "#the column 'Trip_type ' has a blank space after 'type' which can lead to unwanted errors in future, thus we rename it.\n",
    "c_data.rename(columns={'Trip_type ':'Trip_type'}, inplace=True)\n",
    "\n",
    "#We saw that, Trip type has 4 missing values. So let us first check the other features of these 4 rows.\n",
    "naTriptype = c_data[c_data['Trip_type'].isna()].index.tolist()\n",
    "tripType  = c_data.loc[naTriptype,:]\n",
    "\n",
    "tripType.head()\n"
   ]
  },
  {
   "cell_type": "markdown",
   "metadata": {},
   "source": [
    "We can observe, other features of these columns have unusual values, thus we can remove all of the 4 rows.\n"
   ]
  },
  {
   "cell_type": "code",
   "execution_count": 32,
   "metadata": {},
   "outputs": [
    {
     "data": {
      "text/plain": [
       "VendorID                 0\n",
       "lpep_pickup_datetime     0\n",
       "Lpep_dropoff_datetime    0\n",
       "Store_and_fwd_flag       0\n",
       "RateCodeID               0\n",
       "Pickup_longitude         0\n",
       "Pickup_latitude          0\n",
       "Dropoff_longitude        0\n",
       "Dropoff_latitude         0\n",
       "Passenger_count          0\n",
       "Trip_distance            0\n",
       "Fare_amount              0\n",
       "Extra                    0\n",
       "MTA_tax                  0\n",
       "Tip_amount               0\n",
       "Tolls_amount             0\n",
       "improvement_surcharge    0\n",
       "Total_amount             0\n",
       "Payment_type             0\n",
       "Trip_type                0\n",
       "Tip_percentage           0\n",
       "dtype: int64"
      ]
     },
     "execution_count": 32,
     "metadata": {},
     "output_type": "execute_result"
    }
   ],
   "source": [
    "c_data = c_data.drop(naTriptype)\n",
    "#Let us assign this data to a new dataframe,\n",
    "\n",
    "clean_data = c_data.copy()\n",
    "clean_data.isna().sum() #Checking for any missing values"
   ]
  },
  {
   "cell_type": "markdown",
   "metadata": {},
   "source": [
    "We have obtained a clean data."
   ]
  },
  {
   "cell_type": "markdown",
   "metadata": {},
   "source": [
    "#Now we make use of object datatype features by making new variables from it which may / may not help in our modelling.\n",
    "\n",
    "#1. Convert them to hours of day from 0-23\n",
    "#2. Use them to calculate the total duration of the trips.\n"
   ]
  },
  {
   "cell_type": "code",
   "execution_count": 33,
   "metadata": {},
   "outputs": [],
   "source": [
    "#1. \n",
    "clean_data['Pickup_hour'] = pd.DatetimeIndex(clean_data['lpep_pickup_datetime']).hour\n",
    "clean_data['Dropoff_hour'] = pd.DatetimeIndex(clean_data['Lpep_dropoff_datetime']).hour\n"
   ]
  },
  {
   "cell_type": "code",
   "execution_count": 34,
   "metadata": {},
   "outputs": [],
   "source": [
    "#2.\n",
    "\n",
    "clean_data['Pickup_datetime'] = clean_data.lpep_pickup_datetime.apply(lambda x:dt.datetime.strptime(x,\"%Y-%m-%d %H:%M:%S\"))\n",
    "clean_data['Dropoff_datetime'] = clean_data.Lpep_dropoff_datetime.apply(lambda x:dt.datetime.strptime(x,\"%Y-%m-%d %H:%M:%S\"))\n",
    "\n",
    "clean_data['Trip_duration'] = ((clean_data.Dropoff_datetime-clean_data.Pickup_datetime).apply(lambda x:x.total_seconds()/60.))\n",
    "\n"
   ]
  },
  {
   "cell_type": "code",
   "execution_count": 35,
   "metadata": {},
   "outputs": [],
   "source": [
    "#Now that we have Trip duration, we can drop the  pickup/dropoff datetimes that we created \n",
    "clean_data = clean_data.drop(['Pickup_datetime','Dropoff_datetime'],axis = 1)\n"
   ]
  },
  {
   "cell_type": "code",
   "execution_count": 36,
   "metadata": {},
   "outputs": [
    {
     "name": "stdout",
     "output_type": "stream",
     "text": [
      "VendorID                   int64\n",
      "lpep_pickup_datetime      object\n",
      "Lpep_dropoff_datetime     object\n",
      "Store_and_fwd_flag        object\n",
      "RateCodeID                 int64\n",
      "Pickup_longitude         float64\n",
      "Pickup_latitude          float64\n",
      "Dropoff_longitude        float64\n",
      "Dropoff_latitude         float64\n",
      "Passenger_count            int64\n",
      "Trip_distance            float64\n",
      "Fare_amount              float64\n",
      "Extra                    float64\n",
      "MTA_tax                  float64\n",
      "Tip_amount               float64\n",
      "Tolls_amount             float64\n",
      "improvement_surcharge    float64\n",
      "Total_amount             float64\n",
      "Payment_type               int64\n",
      "Trip_type                float64\n",
      "Tip_percentage           float64\n",
      "Pickup_hour                int64\n",
      "Dropoff_hour               int64\n",
      "Trip_duration            float64\n",
      "dtype: object\n"
     ]
    }
   ],
   "source": [
    "#First we check the data types of features.\n",
    "print(clean_data.dtypes)"
   ]
  },
  {
   "cell_type": "markdown",
   "metadata": {},
   "source": [
    "Here,VendorID, RateCodeID, Payment_type and Trip_type are given as integers, but we shouldn't confuse them with continuous variables."
   ]
  },
  {
   "cell_type": "code",
   "execution_count": 38,
   "metadata": {},
   "outputs": [
    {
     "data": {
      "text/plain": [
       "<function matplotlib.pyplot.show(*args, **kw)>"
      ]
     },
     "execution_count": 38,
     "metadata": {},
     "output_type": "execute_result"
    },
    {
     "data": {
      "image/png": "[encoded data removed]",
      "text/plain": [
       "<Figure size 1008x1008 with 2 Axes>"
      ]
     },
     "metadata": {
      "needs_background": "light"
     },
     "output_type": "display_data"
    }
   ],
   "source": [
    "#Thus, while finding the correlation, we use only continuous variables like :\n",
    "cnt_var=['Passenger_count','Trip_distance', 'Fare_amount', 'Extra', 'MTA_tax',  'Tolls_amount', 'improvement_surcharge', 'Total_amount','Trip_duration','Tip_amount','Tip_percentage']\n",
    "\n",
    "plt.figure(figsize=(14,14))\n",
    "cor = clean_data[cnt_var].corr()\n",
    "sns.heatmap(cor,annot=True,cmap=plt.cm.Blues)\n",
    "plt.xticks(rotation = 45)\n",
    "plt.show\n"
   ]
  },
  {
   "cell_type": "markdown",
   "metadata": {},
   "source": [
    "Thus, we can say, Fare amount, Total  amount and Trip distance show very  high correlation among themselves, i.e multicollinearity is high.\n",
    "Further, Tip percentage barely has any linearity with the independent variables.\n",
    "Therefore, linear regression would not perform well. \n",
    "However we will compare linear regression with random forest regressor and observe the results.\n"
   ]
  },
  {
   "cell_type": "markdown",
   "metadata": {},
   "source": [
    "\n",
    "Dealing with Categorical variables\n",
    "\n",
    "Before moving further, let's us convert values of 'Store_and_fwd_flag' columns from strings to int\n",
    "which would make it easier to calculate the Variance Inflation Factor (VIF).\n",
    "VIF helps in detecing the multicollinearity among the independent categorical variables. \n",
    "Although we won't be making linear regressor as our primary model, its better to understand the importance of each feature.\n"
   ]
  },
  {
   "cell_type": "code",
   "execution_count": 39,
   "metadata": {},
   "outputs": [],
   "source": [
    "clean_data.Store_and_fwd_flag.replace(('N','Y'),(0,1), inplace=True)"
   ]
  },
  {
   "cell_type": "code",
   "execution_count": 40,
   "metadata": {},
   "outputs": [],
   "source": [
    "cat_vars = ['VendorID','Store_and_fwd_flag','RateCodeID','Payment_type','Trip_type','Pickup_hour','Dropoff_hour']\n"
   ]
  },
  {
   "cell_type": "code",
   "execution_count": 41,
   "metadata": {},
   "outputs": [
    {
     "data": {
      "text/html": [
       "<div>\n",
       "<style scoped>\n",
       "    .dataframe tbody tr th:only-of-type {\n",
       "        vertical-align: middle;\n",
       "    }\n",
       "\n",
       "    .dataframe tbody tr th {\n",
       "        vertical-align: top;\n",
       "    }\n",
       "\n",
       "    .dataframe thead th {\n",
       "        text-align: right;\n",
       "    }\n",
       "</style>\n",
       "<table border=\"1\" class=\"dataframe\">\n",
       "  <thead>\n",
       "    <tr style=\"text-align: right;\">\n",
       "      <th></th>\n",
       "      <th>VIF Factor</th>\n",
       "      <th>features</th>\n",
       "    </tr>\n",
       "  </thead>\n",
       "  <tbody>\n",
       "    <tr>\n",
       "      <th>0</th>\n",
       "      <td>1.0</td>\n",
       "      <td>VendorID</td>\n",
       "    </tr>\n",
       "    <tr>\n",
       "      <th>1</th>\n",
       "      <td>1.0</td>\n",
       "      <td>Store_and_fwd_flag</td>\n",
       "    </tr>\n",
       "    <tr>\n",
       "      <th>2</th>\n",
       "      <td>11.9</td>\n",
       "      <td>RateCodeID</td>\n",
       "    </tr>\n",
       "    <tr>\n",
       "      <th>3</th>\n",
       "      <td>1.0</td>\n",
       "      <td>Payment_type</td>\n",
       "    </tr>\n",
       "    <tr>\n",
       "      <th>4</th>\n",
       "      <td>11.9</td>\n",
       "      <td>Trip_type</td>\n",
       "    </tr>\n",
       "    <tr>\n",
       "      <th>5</th>\n",
       "      <td>7.8</td>\n",
       "      <td>Pickup_hour</td>\n",
       "    </tr>\n",
       "    <tr>\n",
       "      <th>6</th>\n",
       "      <td>7.8</td>\n",
       "      <td>Dropoff_hour</td>\n",
       "    </tr>\n",
       "    <tr>\n",
       "      <th>7</th>\n",
       "      <td>396.6</td>\n",
       "      <td>intercept</td>\n",
       "    </tr>\n",
       "  </tbody>\n",
       "</table>\n",
       "</div>"
      ],
      "text/plain": [
       "   VIF Factor            features\n",
       "0         1.0            VendorID\n",
       "1         1.0  Store_and_fwd_flag\n",
       "2        11.9          RateCodeID\n",
       "3         1.0        Payment_type\n",
       "4        11.9           Trip_type\n",
       "5         7.8         Pickup_hour\n",
       "6         7.8        Dropoff_hour\n",
       "7       396.6           intercept"
      ]
     },
     "execution_count": 41,
     "metadata": {},
     "output_type": "execute_result"
    }
   ],
   "source": [
    "df = clean_data[cat_vars]\n",
    "\n",
    "df = df.assign(intercept = 1)     # adding an intercept (constant value =1) required for VIF calculation\n",
    "df.head()\n",
    "\n",
    "vif = pd.DataFrame()\n",
    "vif[\"VIF Factor\"] = [variance_inflation_factor(df.values, i) for i in range(df.shape[1])]\n",
    "vif[\"features\"] = df.columns\n",
    "vif.round(1)"
   ]
  },
  {
   "cell_type": "markdown",
   "metadata": {},
   "source": [
    "As the Variance inflation factor of more than half of the categorical variables is high,there exists multicollinearity. \n",
    "However, we can conclude that  VendorID, Store_and_fwd_flag and Payment_type might be important features."
   ]
  },
  {
   "cell_type": "code",
   "execution_count": 42,
   "metadata": {},
   "outputs": [
    {
     "data": {
      "text/plain": [
       "Index(['VendorID', 'lpep_pickup_datetime', 'Lpep_dropoff_datetime',\n",
       "       'Store_and_fwd_flag', 'RateCodeID', 'Pickup_longitude',\n",
       "       'Pickup_latitude', 'Dropoff_longitude', 'Dropoff_latitude',\n",
       "       'Passenger_count', 'Trip_distance', 'Fare_amount', 'Extra', 'MTA_tax',\n",
       "       'Tip_amount', 'Tolls_amount', 'improvement_surcharge', 'Total_amount',\n",
       "       'Payment_type', 'Trip_type', 'Pickup_hour', 'Dropoff_hour',\n",
       "       'Trip_duration'],\n",
       "      dtype='object')"
      ]
     },
     "execution_count": 42,
     "metadata": {},
     "output_type": "execute_result"
    }
   ],
   "source": [
    "#Getting started with modelling,\n",
    "#let us generate a copy of our clean_data , say, modelling data, m_data.\n",
    "\n",
    "m_data = clean_data.copy()\n",
    "raw_X = m_data.drop('Tip_percentage', axis = 1) #we drop our target variable\n",
    "y = m_data['Tip_percentage']\n",
    "\n",
    "raw_X.columns \n"
   ]
  },
  {
   "cell_type": "code",
   "execution_count": 44,
   "metadata": {},
   "outputs": [
    {
     "data": {
      "text/plain": [
       "Index(['VendorID', 'Store_and_fwd_flag', 'RateCodeID', 'Passenger_count',\n",
       "       'Trip_distance', 'Fare_amount', 'Extra', 'MTA_tax', 'Tip_amount',\n",
       "       'Tolls_amount', 'improvement_surcharge', 'Total_amount', 'Payment_type',\n",
       "       'Trip_type', 'Pickup_hour', 'Dropoff_hour', 'Trip_duration'],\n",
       "      dtype='object')"
      ]
     },
     "execution_count": 44,
     "metadata": {},
     "output_type": "execute_result"
    }
   ],
   "source": [
    "#Pickup longitude/latitude and dropoff longitude/latitude are categorical variables \n",
    "#and seem to be of very less importance. Thus, there shouldn't be any harm in dropping them.\n",
    "#Same for lpep_pickup_datetime, Lpep_dropoff_datetime (Object datatype)\n",
    "raw_X = raw_X.drop(['Pickup_longitude','Pickup_latitude','Dropoff_longitude','Dropoff_latitude','lpep_pickup_datetime','Lpep_dropoff_datetime'], axis=1)\n",
    "\n",
    "raw_X.columns\n"
   ]
  },
  {
   "cell_type": "code",
   "execution_count": 45,
   "metadata": {},
   "outputs": [
    {
     "data": {
      "text/plain": [
       "VendorID                 category\n",
       "Store_and_fwd_flag       category\n",
       "RateCodeID               category\n",
       "Passenger_count             int64\n",
       "Trip_distance             float64\n",
       "Fare_amount               float64\n",
       "Extra                     float64\n",
       "MTA_tax                   float64\n",
       "Tip_amount                float64\n",
       "Tolls_amount              float64\n",
       "improvement_surcharge     float64\n",
       "Total_amount              float64\n",
       "Payment_type             category\n",
       "Trip_type                category\n",
       "Pickup_hour              category\n",
       "Dropoff_hour             category\n",
       "Trip_duration             float64\n",
       "dtype: object"
      ]
     },
     "execution_count": 45,
     "metadata": {},
     "output_type": "execute_result"
    }
   ],
   "source": [
    "#converting the datatype to appropriate ones, before performing one-hot encoding on categorical variables.\n",
    "\n",
    "raw_X[cat_vars] = raw_X[cat_vars].astype('category') \n",
    "raw_X.dtypes\n"
   ]
  },
  {
   "cell_type": "code",
   "execution_count": 46,
   "metadata": {},
   "outputs": [],
   "source": [
    "#Performing One Hot Encoding using get_dummies\n",
    "\n",
    "X = pd.get_dummies(raw_X,drop_first=False)\n"
   ]
  },
  {
   "cell_type": "code",
   "execution_count": 47,
   "metadata": {},
   "outputs": [],
   "source": [
    "X_train,X_test,y_train,y_test = train_test_split(X,y,test_size=0.3,random_state=42)\n"
   ]
  },
  {
   "cell_type": "markdown",
   "metadata": {},
   "source": [
    "#Let's begin with modelling. \n",
    "\n",
    "\n",
    "Linear Regression "
   ]
  },
  {
   "cell_type": "code",
   "execution_count": 48,
   "metadata": {},
   "outputs": [],
   "source": [
    "\n",
    "from sklearn.linear_model import LinearRegression\n",
    "Lregressor = LinearRegression()\n",
    "Lregressor.fit(X_train, y_train)\n",
    "\n",
    "# Predicting the Test set results\n",
    "y_predLR = Lregressor.predict(X_test)\n",
    "\n"
   ]
  },
  {
   "cell_type": "code",
   "execution_count": 67,
   "metadata": {},
   "outputs": [
    {
     "name": "stdout",
     "output_type": "stream",
     "text": [
      "Mean squared error: 16.4835270479382\n",
      "Root mean square error =  4.059991015745996\n",
      "Mean absolute error =  2.461387113566287\n"
     ]
    }
   ],
   "source": [
    "print(\"Mean squared error:\", metrics.mean_squared_error(y_test, y_predLR))\n",
    "\n",
    "print(\"Root mean square error = \",sqrt(mean_squared_error(y_test,y_predLR)))\n",
    "\n",
    "print(\"Mean absolute error = \" , metrics.mean_absolute_error(y_test,y_predLR))\n"
   ]
  },
  {
   "cell_type": "code",
   "execution_count": 51,
   "metadata": {},
   "outputs": [
    {
     "data": {
      "text/plain": [
       "LinearRegression(copy_X=True, fit_intercept=True, n_jobs=1, normalize=False)"
      ]
     },
     "execution_count": 51,
     "metadata": {},
     "output_type": "execute_result"
    }
   ],
   "source": [
    "#Again we try LR, now with few selected features.\n",
    "\n",
    "rawX_LR = raw_X[['Payment_type','Trip_distance','Total_amount','Fare_amount','VendorID','Tip_amount']]\n",
    "X_lr = pd.get_dummies(rawX_LR,drop_first=False)\n",
    "\n",
    "#Splitting train and test dataset\n",
    "Xlr_train,Xlr_test,ylr_train,ylr_test = train_test_split(X_lr,y,test_size=0.3,random_state=42)\n",
    "\n",
    "Lregressor.fit(Xlr_train, ylr_train)\n"
   ]
  },
  {
   "cell_type": "code",
   "execution_count": 68,
   "metadata": {},
   "outputs": [
    {
     "name": "stdout",
     "output_type": "stream",
     "text": [
      "Mean squared error: 16.58419090873146\n",
      "Root mean square error =  4.07236920093592\n",
      "Mean absolute error =  2.459120899509563\n"
     ]
    }
   ],
   "source": [
    "# Predicting the Test set results\n",
    "ylr_pred = Lregressor.predict(Xlr_test)\n",
    "\n",
    "\n",
    "print(\"Mean squared error:\", metrics.mean_squared_error(ylr_test, ylr_pred))\n",
    "\n",
    "print(\"Root mean square error = \",sqrt(mean_squared_error(ylr_test,ylr_pred)))\n",
    "\n",
    "print(\"Mean absolute error = \" , metrics.mean_absolute_error(ylr_test,ylr_pred))\n"
   ]
  },
  {
   "cell_type": "markdown",
   "metadata": {},
   "source": [
    "As we had as said earlier, linear regression isn't the best model for this problem. Thus, we go ahead and check our results with random forest regressor."
   ]
  },
  {
   "cell_type": "code",
   "execution_count": 54,
   "metadata": {},
   "outputs": [
    {
     "data": {
      "text/plain": [
       "RandomForestRegressor(bootstrap=True, criterion='mse', max_depth=None,\n",
       "           max_features='auto', max_leaf_nodes=None,\n",
       "           min_impurity_decrease=0.0, min_impurity_split=None,\n",
       "           min_samples_leaf=1, min_samples_split=2,\n",
       "           min_weight_fraction_leaf=0.0, n_estimators=100, n_jobs=1,\n",
       "           oob_score=False, random_state=42, verbose=0, warm_start=False)"
      ]
     },
     "execution_count": 54,
     "metadata": {},
     "output_type": "execute_result"
    }
   ],
   "source": [
    "\n",
    "#Creating Random Forest regressor and fitting the model\n",
    "regRF = RandomForestRegressor(n_estimators = 100, random_state = 42)\n",
    "\n",
    "regRF.fit(X_train,y_train)\n"
   ]
  },
  {
   "cell_type": "code",
   "execution_count": 55,
   "metadata": {},
   "outputs": [],
   "source": [
    "#Predicting the values\n",
    "tipPercent_Pred = regRF.predict(X_test)\n"
   ]
  },
  {
   "cell_type": "code",
   "execution_count": 69,
   "metadata": {},
   "outputs": [
    {
     "name": "stdout",
     "output_type": "stream",
     "text": [
      "Mean squared error: 0.006358208999044414\n",
      "Root mean square error =  0.07973837845758097\n",
      "Mean absolute error =  0.004060577749618104\n"
     ]
    }
   ],
   "source": [
    "print(\"Mean squared error:\", metrics.mean_squared_error(y_test, tipPercent_Pred))\n",
    "\n",
    "print(\"Root mean square error = \",sqrt(mean_squared_error(y_test,tipPercent_Pred)))\n",
    "\n",
    "print(\"Mean absolute error = \" , metrics.mean_absolute_error(y_test,tipPercent_Pred))\n"
   ]
  },
  {
   "cell_type": "markdown",
   "metadata": {},
   "source": [
    "We observe that, the root mean square error looks good as it is close to zero. And is much better than linear regressor.\n"
   ]
  },
  {
   "cell_type": "markdown",
   "metadata": {},
   "source": [
    "Solution for Question 5\n",
    "\n",
    "B) Visualizations\n"
   ]
  },
  {
   "cell_type": "markdown",
   "metadata": {},
   "source": [
    "We use polygon object, to cover the area of the boroughs. \n",
    "And then pass our dataset through the polygon to extract patterns that belong that particular borough(polygon) using the pickup and dropoff longitudes and latitudes.\n",
    "\n",
    "I refered https://automating-gis-processes.github.io/CSC18/lessons/L4/point-in-polygon.html for the polygon calculation."
   ]
  },
  {
   "cell_type": "code",
   "execution_count": 57,
   "metadata": {},
   "outputs": [],
   "source": [
    "#Intra-Borough :\n",
    "\n",
    "data5 = clean_data.copy()\n",
    "\n",
    "manhattan = [(40.881212, -73.933087),(40.874490, -73.914884),(40.875473, -73.909898),\n",
    "              (40.872396, -73.909200),(40.834737, -73.934311),(40.806325, -73.932756),\n",
    "              (40.794604, -73.914221),(40.774082, -73.940022),(40.711342, -73.978217),\n",
    "              (40.704636, -74.001057),(40.691037, -74.020353),(40.704644, -74.032461)]\n",
    "\n",
    "polM = Polygon(manhattan)\n",
    "\n",
    "def in_man(loc,poi = polM):\n",
    "\n",
    "    return 1*(poi.contains(Point(loc)))\n",
    "\n",
    "\n",
    "data5['manhattan_Pickup'] = data5[['Pickup_latitude','Pickup_longitude']].apply(lambda r:in_man((r[0],r[1])),axis=1)\n",
    "data5['manhattan_Dropoff'] = data5[['Dropoff_latitude','Dropoff_longitude']].apply(lambda r:in_man((r[0],r[1])),axis=1)\n",
    "\n",
    "data5['intra_manhattan'] = (data5.manhattan_Pickup == 1) & (data5.manhattan_Dropoff ==1)\n",
    "data5.intra_manhattan.replace((True,False),(1,0), inplace=True)\n"
   ]
  },
  {
   "cell_type": "code",
   "execution_count": 58,
   "metadata": {},
   "outputs": [],
   "source": [
    "\n",
    "bronx = [(40.880984, -73.923339),(40.879686, -73.909600),(40.873193, -73.904792),\n",
    "              (40.834497, -73.931911),(40.806710, -73.929844),(40.788006, -73.875301),\n",
    "              (40.805138, -73.852991),(40.807951, -73.799115),(40.872051, -73.755033),\n",
    "              (40.892908, -73.838140),(40.903299, -73.842251),(40.905643, -73.853589),\n",
    "              (40.900653, -73.862054),(40.916150, -73.917223),(40.882968, -73.930874)]\n",
    "\n",
    "polBx = Polygon(bronx)\n",
    "\n",
    "def in_bronx(loc,poi= polBx):\n",
    "\n",
    "    return 1*(poi.contains(Point(loc)))\n",
    "\n",
    "\n",
    "data5['bronx_Pickup'] = data5[['Pickup_latitude','Pickup_longitude']].apply(lambda s:in_bronx((s[0],s[1])),axis=1)\n",
    "data5['bronx_Dropoff'] = data5[['Dropoff_latitude','Dropoff_longitude']].apply(lambda s:in_bronx((s[0],s[1])),axis=1)\n",
    "\n",
    "data5['intra_bronx'] = (data5.bronx_Pickup == 1) & (data5.bronx_Dropoff ==1)\n",
    "data5.intra_bronx.replace((True,False),(1,0), inplace=True)\n"
   ]
  },
  {
   "cell_type": "code",
   "execution_count": 59,
   "metadata": {},
   "outputs": [],
   "source": [
    "brooklyn = [(40.679006, -74.019129),(40.625878, -74.052132),(40.605031, -74.035672),\n",
    "              (40.565419, -74.011009),(40.577759, -73.879951),(40.640244, -73.856410),\n",
    "              (40.665282, -73.870067),(40.690821, -73.873419),(40.680441, -73.898195),\n",
    "              (40.735747, -73.953742),(40.704902, -73.969127),(40.678521, -74.017334)]\n",
    "\n",
    "polBkl = Polygon(brooklyn)\n",
    "\n",
    "def in_brooklyn(loc,poi= polBkl):\n",
    "\n",
    "    return 1*(poi.contains(Point(loc)))\n",
    "\n",
    "data5['brooklyn_Pickup'] = data5[['Pickup_latitude','Pickup_longitude']].apply(lambda t:in_brooklyn((t[0],t[1])),axis=1)\n",
    "data5['brooklyn_Dropoff'] = data5[['Dropoff_latitude','Dropoff_longitude']].apply(lambda t:in_brooklyn((t[0],t[1])),axis=1)\n",
    "\n",
    "data5['intra_brooklyn'] = (data5.brooklyn_Pickup == 1) & (data5.brooklyn_Dropoff ==1)\n",
    "data5.intra_brooklyn.replace((True,False),(1,0), inplace=True)\n"
   ]
  },
  {
   "cell_type": "code",
   "execution_count": 60,
   "metadata": {},
   "outputs": [],
   "source": [
    "\n",
    "queens = [(40.747301, -73.953511),(40.726963, -73.923281),(40.689947, -73.893098),\n",
    "              (40.699822, -73.871775),(40.597115, -73.822578),(40.558699, -73.942702),\n",
    "              (40.538894, -73.935180),(40.596957, -73.745013),(40.628827, -73.784036),\n",
    "              (40.658417, -73.733776),(40.723046, -73.739691),(40.740165, -73.706588),\n",
    "              (40.801813, -73.775844),(40.779559, -73.886737),(40.773340, -73.928719)]\n",
    "\n",
    "polQ = Polygon(queens)\n",
    "\n",
    "def in_queens(loc,poi= polQ):\n",
    "\n",
    "    return 1*(poi.contains(Point(loc)))\n",
    "\n",
    "data5['queens_Pickup'] = data5[['Pickup_latitude','Pickup_longitude']].apply(lambda u:in_queens((u[0],u[1])),axis=1)\n",
    "data5['queens_Dropoff'] = data5[['Dropoff_latitude','Dropoff_longitude']].apply(lambda u:in_queens((u[0],u[1])),axis=1)\n",
    "\n",
    "data5['intra_queens'] = (data5.queens_Pickup == 1) & (data5.queens_Dropoff ==1)\n",
    "data5.intra_queens.replace((True,False),(1,0), inplace=True)\n"
   ]
  },
  {
   "cell_type": "code",
   "execution_count": 61,
   "metadata": {},
   "outputs": [],
   "source": [
    "statenI = [(40.646651, -74.059390),(40.644394, -74.183858),(40.622747, -74.201051),\n",
    "              (40.561976, -74.203813),(40.537455, -74.247745),(40.520242, -74.242934),\n",
    "              (40.509022, -74.256653),(40.485030, -74.233662),(40.602282, -74.045068),\n",
    "              (40.625259, -74.059789),(40.644563, -74.058707),(40.650327, -74.079671)]\n",
    "\n",
    "polSI = Polygon(statenI)\n",
    "\n",
    "def in_SI(loc,poi= polSI):\n",
    "\n",
    "    return 1*(poi.contains(Point(loc)))\n",
    "\n",
    "data5['SI_Pickup'] = data5[['Pickup_latitude','Pickup_longitude']].apply(lambda v:in_SI((v[0],v[1])),axis=1)\n",
    "data5['SI_Dropoff'] = data5[['Dropoff_latitude','Dropoff_longitude']].apply(lambda v:in_SI((v[0],v[1])),axis=1)\n",
    "\n",
    "data5['intra_SI'] = (data5.SI_Pickup == 1) & (data5.SI_Dropoff ==1)\n",
    "data5.intra_SI.replace((True,False),(1,0), inplace=True)\n",
    "\n"
   ]
  },
  {
   "cell_type": "code",
   "execution_count": 62,
   "metadata": {},
   "outputs": [],
   "source": [
    "#Inter-Borough \n",
    "\n",
    "data5['inter_Man_Brx'] = ((data5.manhattan_Pickup == 1) & (data5.bronx_Dropoff ==1) | (data5.bronx_Pickup == 1) & (data5.manhattan_Dropoff ==1))\n",
    "data5.inter_Man_Brx.replace((True,False),(1,0), inplace=True)\n",
    "\n",
    "data5['inter_Man_Bkn'] = ((data5.manhattan_Pickup == 1) & (data5.brooklyn_Dropoff ==1) | (data5.brooklyn_Pickup == 1) & (data5.manhattan_Dropoff ==1))\n",
    "data5.inter_Man_Bkn.replace((True,False),(1,0), inplace=True)\n",
    "\n",
    "data5['inter_Man_Queens'] = ((data5.manhattan_Pickup == 1) & (data5.queens_Dropoff ==1) | (data5.queens_Pickup == 1) & (data5.manhattan_Dropoff ==1))\n",
    "data5.inter_Man_Queens.replace((True,False),(1,0), inplace=True)\n",
    "\n",
    "data5['inter_Man_SI'] = ((data5.manhattan_Pickup == 1) & (data5.SI_Dropoff ==1) | (data5.SI_Pickup == 1) & (data5.manhattan_Dropoff ==1))\n",
    "data5.inter_Man_SI.replace((True,False),(1,0), inplace=True)\n",
    "\n",
    "data5['inter_Brx_Bkn'] = ((data5.bronx_Pickup == 1) & (data5.brooklyn_Dropoff ==1) | (data5.brooklyn_Pickup == 1) & (data5.bronx_Dropoff ==1))\n",
    "data5.inter_Brx_Bkn.replace((True,False),(1,0), inplace=True)\n",
    "\n",
    "data5['inter_Brx_Queens'] = ((data5.bronx_Pickup == 1) & (data5.queens_Dropoff ==1) | (data5.queens_Pickup == 1) & (data5.bronx_Dropoff ==1))\n",
    "data5.inter_Brx_Queens.replace((True,False),(1,0), inplace=True)\n",
    "\n",
    "data5['inter_Brx_SI'] = ((data5.bronx_Pickup == 1) & (data5.SI_Dropoff ==1) | (data5.SI_Pickup == 1) & (data5.bronx_Dropoff ==1))\n",
    "data5.inter_Brx_SI.replace((True,False),(1,0), inplace=True)\n",
    "\n",
    "data5['inter_Bkn_Queens'] = ((data5.brooklyn_Pickup == 1) & (data5.queens_Dropoff ==1) | (data5.queens_Pickup == 1) & (data5.brooklyn_Dropoff ==1))\n",
    "data5.inter_Bkn_Queens.replace((True,False),(1,0), inplace=True)\n",
    "\n",
    "data5['inter_Bkn_SI'] = ((data5.brooklyn_Pickup == 1) & (data5.SI_Dropoff ==1) | (data5.SI_Pickup == 1) & (data5.brooklyn_Dropoff ==1))\n",
    "data5.inter_Bkn_SI.replace((True,False),(1,0), inplace=True)\n",
    "\n",
    "data5['inter_Queens_SI'] = ((data5.queens_Pickup == 1) & (data5.SI_Dropoff ==1) | (data5.SI_Pickup == 1) & (data5.queens_Dropoff ==1))\n",
    "data5.inter_Queens_SI.replace((True,False),(1,0), inplace=True)\n",
    "\n"
   ]
  },
  {
   "cell_type": "code",
   "execution_count": 64,
   "metadata": {},
   "outputs": [
    {
     "name": "stdout",
     "output_type": "stream",
     "text": [
      "[      1       3      20 ... 1490435 1490444 1490448]\n"
     ]
    }
   ],
   "source": [
    "#Now lets check if there are any trips which aren't intra or inter borough,\n",
    "\n",
    "IntraInter = ['inter_Man_Brx', 'inter_Man_Bkn','inter_Man_Queens','inter_Man_SI','inter_Brx_Bkn',\n",
    "             'inter_Brx_Queens','inter_Brx_SI','inter_Bkn_Queens','inter_Bkn_SI','inter_Queens_SI',\n",
    "             'intra_manhattan','intra_bronx','intra_brooklyn','intra_queens','intra_SI']\n",
    "\n",
    "notInterIntra = np.where(~data5[IntraInter].any(axis=1))[0]\n",
    "print(notInterIntra)"
   ]
  },
  {
   "cell_type": "code",
   "execution_count": 65,
   "metadata": {},
   "outputs": [],
   "source": [
    "#as we are concerned about intra and inter borough trips in this question, we will delete rows having pickup/dropoff outside NYC\n",
    "\n",
    "data5 = data5.drop(data5.index[tuple([notInterIntra])])\n",
    "\n"
   ]
  },
  {
   "cell_type": "code",
   "execution_count": 71,
   "metadata": {},
   "outputs": [
    {
     "data": {
      "text/plain": [
       "Text(0.5, 0, 'Intra-Borough locations')"
      ]
     },
     "execution_count": 71,
     "metadata": {},
     "output_type": "execute_result"
    },
    {
     "data": {
      "image/png": "[encoded data removed]",
      "text/plain": [
       "<Figure size 720x720 with 1 Axes>"
      ]
     },
     "metadata": {
      "needs_background": "light"
     },
     "output_type": "display_data"
    }
   ],
   "source": [
    "intraColumns = ['intra_manhattan','intra_bronx','intra_brooklyn','intra_queens','intra_SI']\n",
    "\n",
    "vizIntra = data5[intraColumns].copy()\n",
    "\n",
    "aa = vizIntra.copy()\n",
    "aa = aa[(aa.T != 0).any()] #removing the rows which have missing value in Intra-Borough trips as these are the values of Inter-borough trips\n",
    "\n",
    "\n",
    "IntraB = aa.idxmax(1)\n",
    "vizIntra= aa.assign(Intra_Borough= IntraB.values)\n",
    "\n",
    "dims = (10,10)\n",
    "fig, ax = plt.subplots(figsize=dims)\n",
    "sns.countplot(x='Intra_Borough', data= vizIntra) \n",
    "plt.title('Plot of Number of Intra -Borough trips ')\n",
    "plt.xlabel('Intra-Borough locations')\n"
   ]
  },
  {
   "cell_type": "markdown",
   "metadata": {},
   "source": [
    "From the above plot, we can infere that the intra- borough traffic is larger in the Manhattan, Brooklyn and Queens regions as compared to the rest two."
   ]
  },
  {
   "cell_type": "code",
   "execution_count": 76,
   "metadata": {},
   "outputs": [
    {
     "data": {
      "image/png": "[encoded data removed]",
      "text/plain": [
       "<Figure size 1440x1440 with 1 Axes>"
      ]
     },
     "metadata": {
      "needs_background": "light"
     },
     "output_type": "display_data"
    }
   ],
   "source": [
    "interColumns = ['inter_Man_Brx', 'inter_Man_Bkn','inter_Man_Queens','inter_Man_SI','inter_Brx_Bkn',\n",
    "             'inter_Brx_Queens','inter_Brx_SI','inter_Bkn_Queens','inter_Bkn_SI','inter_Queens_SI']\n",
    "\n",
    "vizInter = data5[interColumns].copy()\n",
    "\n",
    "bb = vizInter.copy()\n",
    "bb = bb[(bb.T != 0).any()]\n",
    "\n",
    "InterB= bb.idxmax(1)\n",
    "\n",
    "vizInter= bb.assign(Inter_Borough= InterB.values)\n",
    "\n",
    "dims = (20,20)\n",
    "fig, ax = plt.subplots(figsize=dims)\n",
    "sns.countplot(x='Inter_Borough', data= vizInter) \n",
    "labels = ['Manh-Bronx','Manh-Brook','Manh-Queens','Manh-Staten',\n",
    "        'Bronx-Brook','Bronx-Queens','Bronx-Staten','Brook-Queens','Brook-Staten','Queens-Staten']\n",
    "ax.set_xticklabels(labels)\n",
    "plt.title('Plot of Number of Inter - Borough trips ')\n",
    "plt.xlabel('Inter-Borough locations')\n",
    "plt.show()"
   ]
  },
  {
   "cell_type": "markdown",
   "metadata": {},
   "source": [
    "By observing the above plot, we can say, most the of NewYorkers travel between Manhattan and Bronx. It can also be observed that, Manhattan has a greater number of inter-borough trips, with all other boroughs. "
   ]
  },
  {
   "cell_type": "code",
   "execution_count": 90,
   "metadata": {},
   "outputs": [
    {
     "data": {
      "text/plain": [
       "<matplotlib.legend.Legend at 0x23482810f60>"
      ]
     },
     "execution_count": 90,
     "metadata": {},
     "output_type": "execute_result"
    },
    {
     "data": {
      "image/png": "[encoded data removed]",
      "text/plain": [
       "<Figure size 432x288 with 1 Axes>"
      ]
     },
     "metadata": {
      "needs_background": "light"
     },
     "output_type": "display_data"
    }
   ],
   "source": [
    "data6 = data5.assign(Intra_Borough= vizIntra['Intra_Borough'])\n",
    "data6 = data6.dropna()\n",
    "\n",
    "\n",
    "plt.figure()\n",
    "plt.plot(data6.groupby(pd.to_datetime(data6['lpep_pickup_datetime']).dt.dayofweek)['Intra_Borough'].count(), label = 'Intra-Borough trips')\n",
    "plt.xlabel('Days of Week starting from Monday')\n",
    "plt.ylabel('Number Of Intra-borough Trips')\n",
    "plt.title('Number of Intra-borough Trips vs days of week')\n",
    "plt.legend()\n"
   ]
  },
  {
   "cell_type": "markdown",
   "metadata": {},
   "source": [
    "We can observe an unsual trend here. The intra-borough trips show in dip on thursdays. However it shoots up on weekends. Perhaps due to tourist activities "
   ]
  },
  {
   "cell_type": "code",
   "execution_count": 92,
   "metadata": {},
   "outputs": [
    {
     "data": {
      "text/plain": [
       "<matplotlib.legend.Legend at 0x234df879358>"
      ]
     },
     "execution_count": 92,
     "metadata": {},
     "output_type": "execute_result"
    },
    {
     "data": {
      "image/png": "[encoded data removed]",
      "text/plain": [
       "<Figure size 432x288 with 1 Axes>"
      ]
     },
     "metadata": {
      "needs_background": "light"
     },
     "output_type": "display_data"
    }
   ],
   "source": [
    "data7 = data5.assign(Inter_Borough= vizInter['Inter_Borough'])\n",
    "data7 = data7.dropna()\n",
    "\n",
    "plt.figure()\n",
    "plt.plot(data7.groupby(pd.to_datetime(data7['lpep_pickup_datetime']).dt.dayofweek)['Inter_Borough'].count(), label = 'Inter-Borough trips')\n",
    "plt.xlabel('Days of Week starting from Monday')\n",
    "plt.ylabel('Number Of Inter-borough Trips')\n",
    "plt.title('Number of Inter-borough Trips vs days of week')\n",
    "plt.legend()"
   ]
  },
  {
   "cell_type": "markdown",
   "metadata": {},
   "source": [
    "We can observe similar trends here as the intra - borough trips, but the number of inter-borough trips when compared to intra- borough are very less. \n",
    "Again , the  trips are more during weekends, perhaps NewYorkers love to travel during weekends."
   ]
  }
 ],
 "metadata": {
  "kernelspec": {
   "display_name": "Python 3",
   "language": "python",
   "name": "python3"
  },
  "language_info": {
   "codemirror_mode": {
    "name": "ipython",
    "version": 3
   },
   "file_extension": ".py",
   "mimetype": "text/x-python",
   "name": "python",
   "nbconvert_exporter": "python",
   "pygments_lexer": "ipython3",
   "version": "3.7.3"
  }
 },
 "nbformat": 4,
 "nbformat_minor": 2
}
